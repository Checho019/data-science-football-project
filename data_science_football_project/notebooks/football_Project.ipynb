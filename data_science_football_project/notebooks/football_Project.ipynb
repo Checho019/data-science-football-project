{
  "cells": [
    {
      "cell_type": "markdown",
      "metadata": {
        "id": "tcWZChw8nIlT"
      },
      "source": [
        "# Project Football\n",
        "\n",
        "In this project we checked historical data about football matches.\n",
        "\n",
        "_SOL_: I made a change about some business questions."
      ]
    },
    {
      "cell_type": "markdown",
      "metadata": {
        "id": "ZPH8fvuMnImV"
      },
      "source": [
        "## Data Collection"
      ]
    },
    {
      "cell_type": "code",
      "execution_count": null,
      "metadata": {
        "id": "IVFg7yg_nImv"
      },
      "outputs": [],
      "source": [
        "import warnings\n",
        "warnings.filterwarnings('ignore')"
      ]
    },
    {
      "cell_type": "code",
      "execution_count": null,
      "metadata": {
        "colab": {
          "base_uri": "https://localhost:8080/"
        },
        "id": "sPfVAYobnInE",
        "outputId": "4176e9ed-614d-4e09-de8a-2a16b2dde057"
      },
      "outputs": [
        {
          "output_type": "stream",
          "name": "stdout",
          "text": [
            "train shape: (110938, 190)\n",
            "target shape: (110938, 3)\n"
          ]
        }
      ],
      "source": [
        "import pandas as pd\n",
        "import warnings\n",
        "warnings.filterwarnings('ignore')\n",
        "\n",
        "# get data from kaggle\n",
        "football_train_df = pd.read_csv('./data/football_train.csv')\n",
        "football_target_df = pd.read_csv('./data/football_target.csv')\n",
        "\n",
        "# print shapes\n",
        "print(\"train shape:\",football_train_df.shape)\n",
        "print(\"target shape:\",football_target_df.shape)\n"
      ]
    },
    {
      "cell_type": "code",
      "execution_count": null,
      "metadata": {
        "id": "IAOZAljAnInh"
      },
      "outputs": [],
      "source": [
        "football_target_df.set_index('id', inplace=True)\n",
        "football_train_df.set_index('id', inplace=True)"
      ]
    },
    {
      "cell_type": "code",
      "execution_count": null,
      "metadata": {
        "colab": {
          "base_uri": "https://localhost:8080/"
        },
        "id": "thV7au1-nIni",
        "outputId": "35adca73-3404-4037-8d57-b1854c0b96e0"
      },
      "outputs": [
        {
          "output_type": "stream",
          "name": "stdout",
          "text": [
            "(110938, 190)\n"
          ]
        }
      ],
      "source": [
        "# join football_train_df and football_target_df (only score column)\n",
        "football_target_df = football_target_df[['score']]\n",
        "football_train_df = football_train_df.join(football_target_df)\n",
        "print(football_train_df.shape)"
      ]
    },
    {
      "cell_type": "markdown",
      "metadata": {
        "id": "3AkiNrvsnIn9"
      },
      "source": [
        "## Data Preprocessing"
      ]
    },
    {
      "cell_type": "markdown",
      "metadata": {
        "id": "8PxmmLqPnIoA"
      },
      "source": [
        "### Data Cleaning\n",
        "\n",
        "We remove, fill, replace, ..."
      ]
    },
    {
      "cell_type": "code",
      "execution_count": null,
      "metadata": {
        "id": "7YVg9di9nIoF",
        "outputId": "d05cae67-4b93-4aba-c69e-b96b0447d5d6",
        "colab": {
          "base_uri": "https://localhost:8080/"
        }
      },
      "outputs": [
        {
          "output_type": "stream",
          "name": "stdout",
          "text": [
            "(79055, 190)\n"
          ]
        }
      ],
      "source": [
        "# remove every team that has less than 10 matches\n",
        "teams_less_10_matches = football_train_df['home_team_name'].value_counts() < 10\n",
        "teams_less_10_matches = teams_less_10_matches[teams_less_10_matches].index\n",
        "\n",
        "# remove teams from teams_less_10_matches\n",
        "football_train_df = football_train_df[~football_train_df['home_team_name'].isin(teams_less_10_matches)]\n",
        "football_train_df = football_train_df[~football_train_df['away_team_name'].isin(teams_less_10_matches)]\n",
        "print(football_train_df.shape)"
      ]
    },
    {
      "cell_type": "code",
      "execution_count": null,
      "metadata": {
        "colab": {
          "base_uri": "https://localhost:8080/"
        },
        "id": "FUNKLIf0nIog",
        "outputId": "46f8b57e-e0b5-48aa-c335-bfb053373da8"
      },
      "outputs": [
        {
          "output_type": "stream",
          "name": "stdout",
          "text": [
            "(110938, 190)\n"
          ]
        }
      ],
      "source": [
        "# Extract diccionary with the league_id and league_name and drop league_name from the dataframes\n",
        "league_dict = football_train_df[['league_id', 'league_name']].drop_duplicates().set_index('league_id').to_dict()['league_name']\n",
        "print(football_train_df.shape)\n"
      ]
    },
    {
      "cell_type": "markdown",
      "metadata": {
        "id": "YyFJ43ldnIoi"
      },
      "source": [
        "Se eliminaron los datos del coach debido a que habian muy poquitos que cumplian con esto y solamente añadia ruido \\\n",
        "Eliminamos todos los equipos que tuvieran menos de 10 partidos en el historico \\\n",
        "Eliminamos aquellas filas que tengan menos del 50% de información disponible\n"
      ]
    },
    {
      "cell_type": "markdown",
      "metadata": {
        "id": "8fIYqvQ5nIox"
      },
      "source": [
        "### Filtros opcionales (ejecutar sin eliminar los equipos)"
      ]
    },
    {
      "cell_type": "code",
      "execution_count": null,
      "metadata": {
        "id": "yu0yz5J0nIo4",
        "outputId": "b52a733b-39e0-4737-9a44-f641625b2561"
      },
      "outputs": [
        {
          "name": "stdout",
          "output_type": "stream",
          "text": [
            "(110938, 168)\n"
          ]
        }
      ],
      "source": [
        "# remove every column has \"coach\" in his name\n",
        "football_train_df = football_train_df[football_train_df.columns.drop(list(football_train_df.filter(regex='coach', axis=1)))]\n",
        "print(football_train_df.shape)"
      ]
    },
    {
      "cell_type": "code",
      "execution_count": null,
      "metadata": {
        "id": "HwoJquHKnIpI"
      },
      "outputs": [],
      "source": [
        "# remove every row has more than 50% of missing values\n",
        "football_train_df = football_train_df.dropna(thresh=0.5*len(football_train_df), axis=1)\n",
        "print(football_train_df.shape)\n"
      ]
    },
    {
      "cell_type": "code",
      "execution_count": null,
      "metadata": {
        "id": "Lp0z5fJ3nIpJ"
      },
      "outputs": [],
      "source": [
        "# remove every row has more than 70% of missing values\n",
        "football_train_df = football_train_df.dropna(thresh=0.7*len(football_train_df.columns), axis=0)\n",
        "print(football_train_df.shape)"
      ]
    },
    {
      "cell_type": "code",
      "execution_count": null,
      "metadata": {
        "id": "V-2KFWpfnIpb"
      },
      "outputs": [],
      "source": [
        "# code to remove duplicates\n",
        "football_train_df = football_train_df.drop_duplicates()"
      ]
    },
    {
      "cell_type": "code",
      "execution_count": null,
      "metadata": {
        "id": "dyEP4TEPnIpw",
        "outputId": "2258b9be-41b1-41df-b12c-1a5eaca65a03"
      },
      "outputs": [
        {
          "data": {
            "text/plain": [
              "['target',\n",
              " 'home_team_name',\n",
              " 'away_team_name',\n",
              " 'match_date',\n",
              " 'league_name',\n",
              " 'league_id',\n",
              " 'is_cup',\n",
              " 'home_team_coach_id',\n",
              " 'away_team_coach_id',\n",
              " 'home_team_history_match_date_1',\n",
              " 'home_team_history_match_date_2',\n",
              " 'home_team_history_match_date_3',\n",
              " 'home_team_history_match_date_4',\n",
              " 'home_team_history_match_date_5',\n",
              " 'home_team_history_match_date_6',\n",
              " 'home_team_history_match_date_7',\n",
              " 'home_team_history_match_date_8',\n",
              " 'home_team_history_match_date_9',\n",
              " 'home_team_history_match_date_10',\n",
              " 'home_team_history_is_play_home_1',\n",
              " 'home_team_history_is_play_home_2',\n",
              " 'home_team_history_is_play_home_3',\n",
              " 'home_team_history_is_play_home_4',\n",
              " 'home_team_history_is_play_home_5',\n",
              " 'home_team_history_is_play_home_6',\n",
              " 'home_team_history_is_play_home_7',\n",
              " 'home_team_history_is_play_home_8',\n",
              " 'home_team_history_is_play_home_9',\n",
              " 'home_team_history_is_play_home_10',\n",
              " 'home_team_history_is_cup_1',\n",
              " 'home_team_history_is_cup_2',\n",
              " 'home_team_history_is_cup_3',\n",
              " 'home_team_history_is_cup_4',\n",
              " 'home_team_history_is_cup_5',\n",
              " 'home_team_history_is_cup_6',\n",
              " 'home_team_history_is_cup_7',\n",
              " 'home_team_history_is_cup_8',\n",
              " 'home_team_history_is_cup_9',\n",
              " 'home_team_history_is_cup_10',\n",
              " 'home_team_history_goal_1',\n",
              " 'home_team_history_goal_2',\n",
              " 'home_team_history_goal_3',\n",
              " 'home_team_history_goal_4',\n",
              " 'home_team_history_goal_5',\n",
              " 'home_team_history_goal_6',\n",
              " 'home_team_history_goal_7',\n",
              " 'home_team_history_goal_8',\n",
              " 'home_team_history_goal_9',\n",
              " 'home_team_history_goal_10',\n",
              " 'home_team_history_opponent_goal_1',\n",
              " 'home_team_history_opponent_goal_2',\n",
              " 'home_team_history_opponent_goal_3',\n",
              " 'home_team_history_opponent_goal_4',\n",
              " 'home_team_history_opponent_goal_5',\n",
              " 'home_team_history_opponent_goal_6',\n",
              " 'home_team_history_opponent_goal_7',\n",
              " 'home_team_history_opponent_goal_8',\n",
              " 'home_team_history_opponent_goal_9',\n",
              " 'home_team_history_opponent_goal_10',\n",
              " 'home_team_history_rating_1',\n",
              " 'home_team_history_rating_2',\n",
              " 'home_team_history_rating_3',\n",
              " 'home_team_history_rating_4',\n",
              " 'home_team_history_rating_5',\n",
              " 'home_team_history_rating_6',\n",
              " 'home_team_history_rating_7',\n",
              " 'home_team_history_rating_8',\n",
              " 'home_team_history_rating_9',\n",
              " 'home_team_history_rating_10',\n",
              " 'home_team_history_opponent_rating_1',\n",
              " 'home_team_history_opponent_rating_2',\n",
              " 'home_team_history_opponent_rating_3',\n",
              " 'home_team_history_opponent_rating_4',\n",
              " 'home_team_history_opponent_rating_5',\n",
              " 'home_team_history_opponent_rating_6',\n",
              " 'home_team_history_opponent_rating_7',\n",
              " 'home_team_history_opponent_rating_8',\n",
              " 'home_team_history_opponent_rating_9',\n",
              " 'home_team_history_opponent_rating_10',\n",
              " 'home_team_history_coach_1',\n",
              " 'home_team_history_coach_2',\n",
              " 'home_team_history_coach_3',\n",
              " 'home_team_history_coach_4',\n",
              " 'home_team_history_coach_5',\n",
              " 'home_team_history_coach_6',\n",
              " 'home_team_history_coach_7',\n",
              " 'home_team_history_coach_8',\n",
              " 'home_team_history_coach_9',\n",
              " 'home_team_history_coach_10',\n",
              " 'home_team_history_league_id_1',\n",
              " 'home_team_history_league_id_2',\n",
              " 'home_team_history_league_id_3',\n",
              " 'home_team_history_league_id_4',\n",
              " 'home_team_history_league_id_5',\n",
              " 'home_team_history_league_id_6',\n",
              " 'home_team_history_league_id_7',\n",
              " 'home_team_history_league_id_8',\n",
              " 'home_team_history_league_id_9',\n",
              " 'home_team_history_league_id_10',\n",
              " 'away_team_history_match_date_1',\n",
              " 'away_team_history_match_date_2',\n",
              " 'away_team_history_match_date_3',\n",
              " 'away_team_history_match_date_4',\n",
              " 'away_team_history_match_date_5',\n",
              " 'away_team_history_match_date_6',\n",
              " 'away_team_history_match_date_7',\n",
              " 'away_team_history_match_date_8',\n",
              " 'away_team_history_match_date_9',\n",
              " 'away_team_history_match_date_10',\n",
              " 'away_team_history_is_play_home_1',\n",
              " 'away_team_history_is_play_home_2',\n",
              " 'away_team_history_is_play_home_3',\n",
              " 'away_team_history_is_play_home_4',\n",
              " 'away_team_history_is_play_home_5',\n",
              " 'away_team_history_is_play_home_6',\n",
              " 'away_team_history_is_play_home_7',\n",
              " 'away_team_history_is_play_home_8',\n",
              " 'away_team_history_is_play_home_9',\n",
              " 'away_team_history_is_play_home_10',\n",
              " 'away_team_history_is_cup_1',\n",
              " 'away_team_history_is_cup_2',\n",
              " 'away_team_history_is_cup_3',\n",
              " 'away_team_history_is_cup_4',\n",
              " 'away_team_history_is_cup_5',\n",
              " 'away_team_history_is_cup_6',\n",
              " 'away_team_history_is_cup_7',\n",
              " 'away_team_history_is_cup_8',\n",
              " 'away_team_history_is_cup_9',\n",
              " 'away_team_history_is_cup_10',\n",
              " 'away_team_history_goal_1',\n",
              " 'away_team_history_goal_2',\n",
              " 'away_team_history_goal_3',\n",
              " 'away_team_history_goal_4',\n",
              " 'away_team_history_goal_5',\n",
              " 'away_team_history_goal_6',\n",
              " 'away_team_history_goal_7',\n",
              " 'away_team_history_goal_8',\n",
              " 'away_team_history_goal_9',\n",
              " 'away_team_history_goal_10',\n",
              " 'away_team_history_opponent_goal_1',\n",
              " 'away_team_history_opponent_goal_2',\n",
              " 'away_team_history_opponent_goal_3',\n",
              " 'away_team_history_opponent_goal_4',\n",
              " 'away_team_history_opponent_goal_5',\n",
              " 'away_team_history_opponent_goal_6',\n",
              " 'away_team_history_opponent_goal_7',\n",
              " 'away_team_history_opponent_goal_8',\n",
              " 'away_team_history_opponent_goal_9',\n",
              " 'away_team_history_opponent_goal_10',\n",
              " 'away_team_history_rating_1',\n",
              " 'away_team_history_rating_2',\n",
              " 'away_team_history_rating_3',\n",
              " 'away_team_history_rating_4',\n",
              " 'away_team_history_rating_5',\n",
              " 'away_team_history_rating_6',\n",
              " 'away_team_history_rating_7',\n",
              " 'away_team_history_rating_8',\n",
              " 'away_team_history_rating_9',\n",
              " 'away_team_history_rating_10',\n",
              " 'away_team_history_opponent_rating_1',\n",
              " 'away_team_history_opponent_rating_2',\n",
              " 'away_team_history_opponent_rating_3',\n",
              " 'away_team_history_opponent_rating_4',\n",
              " 'away_team_history_opponent_rating_5',\n",
              " 'away_team_history_opponent_rating_6',\n",
              " 'away_team_history_opponent_rating_7',\n",
              " 'away_team_history_opponent_rating_8',\n",
              " 'away_team_history_opponent_rating_9',\n",
              " 'away_team_history_opponent_rating_10',\n",
              " 'away_team_history_coach_1',\n",
              " 'away_team_history_coach_2',\n",
              " 'away_team_history_coach_3',\n",
              " 'away_team_history_coach_4',\n",
              " 'away_team_history_coach_5',\n",
              " 'away_team_history_coach_6',\n",
              " 'away_team_history_coach_7',\n",
              " 'away_team_history_coach_8',\n",
              " 'away_team_history_coach_9',\n",
              " 'away_team_history_coach_10',\n",
              " 'away_team_history_league_id_1',\n",
              " 'away_team_history_league_id_2',\n",
              " 'away_team_history_league_id_3',\n",
              " 'away_team_history_league_id_4',\n",
              " 'away_team_history_league_id_5',\n",
              " 'away_team_history_league_id_6',\n",
              " 'away_team_history_league_id_7',\n",
              " 'away_team_history_league_id_8',\n",
              " 'away_team_history_league_id_9',\n",
              " 'away_team_history_league_id_10',\n",
              " 'home_score',\n",
              " 'away_score']"
            ]
          },
          "execution_count": 82,
          "metadata": {},
          "output_type": "execute_result"
        }
      ],
      "source": [
        "# imprimir columnas\n",
        "football_train_df.columns.to_list()"
      ]
    },
    {
      "cell_type": "markdown",
      "metadata": {
        "id": "DK_bQwULnIpy"
      },
      "source": [
        "### Data Preparation"
      ]
    },
    {
      "cell_type": "code",
      "execution_count": null,
      "metadata": {
        "id": "pfbtHSAynIpz"
      },
      "outputs": [],
      "source": [
        "from sklearn.preprocessing import LabelEncoder\n",
        "\n",
        "# change datetime format\n",
        "# filter date columns and change datatype\n",
        "for col in football_train_df.filter(regex='date', axis=1).columns:\n",
        "    football_train_df[col] = pd.to_datetime(football_train_df[col])\n",
        "\n",
        "# Set league_name as category\n",
        "football_train_df['league_name'] = football_train_df['league_name'].astype('category')\n",
        "\n",
        "# Label encoding target\n",
        "le = LabelEncoder()\n",
        "football_train_df['target'] = le.fit_transform(football_train_df['target'])\n",
        "\n",
        "# Label encoding is_coup\n",
        "football_train_df['is_cup'] = le.fit_transform(football_train_df['is_cup'])\n",
        "\n",
        "# Separate score column # - # in two columns home_score and away_score and merge it with football_train_df\n",
        "football_train_df['home_score'] = football_train_df['score'].str.split('-', expand=True)[0].astype(int)\n",
        "football_train_df['away_score'] = football_train_df['score'].str.split('-', expand=True)[1].astype(int)\n",
        "football_train_df.drop('score', axis=1, inplace=True)\n",
        "\n"
      ]
    },
    {
      "cell_type": "markdown",
      "metadata": {
        "id": "ftxt2GfInIp9"
      },
      "source": [
        "## Feature Engineering\n"
      ]
    },
    {
      "cell_type": "code",
      "execution_count": null,
      "metadata": {
        "colab": {
          "base_uri": "https://localhost:8080/"
        },
        "id": "m2pP_p-SnIp-",
        "outputId": "2c5647cb-0af7-4eb1-a4e0-718e1d671f84"
      },
      "outputs": [
        {
          "output_type": "stream",
          "name": "stdout",
          "text": [
            "(79055, 24)\n"
          ]
        }
      ],
      "source": [
        "# Feature Engineering\n",
        "football_reduced_df = football_train_df[[\n",
        "    'home_team_name',\n",
        "    'away_team_name',\n",
        "    'match_date',\n",
        "    'league_name',\n",
        "    'is_cup',\n",
        "    'home_score',\n",
        "    'away_score',\n",
        "    'target']].copy()\n",
        "\n",
        "# Calculate last home team match\n",
        "# find the days between the last match of the home team\n",
        "football_reduced_df['home_days_betwent_last_match'] = (football_reduced_df['match_date'] - football_train_df['home_team_history_match_date_1']).dt.days\n",
        "football_reduced_df['home_days_betwent_last_match'].head(10)\n",
        "\n",
        "# home average goals in last 10 matches (columns home_team_history_goal_1 to home_team_history_goal_10)\n",
        "football_reduced_df['home_avg_home_goal_last_10'] = football_train_df.filter(regex='home_team_history_goal', axis=1).mean(axis=1)\n",
        "football_reduced_df['home_avg_opponent_goal_last_10'] = football_train_df.filter(regex='home_team_history_opponent_goal', axis=1).mean(axis=1)\n",
        "\n",
        "football_reduced_df['away_avg_home_goal_last_10'] = football_train_df.filter(regex='away_team_history_goal', axis=1).mean(axis=1)\n",
        "football_reduced_df['away_avg_opponent_goal_last_10'] = football_train_df.filter(regex='away_team_history_opponent_goal', axis=1).mean(axis=1)\n",
        "# Aqui podemos hacer feature engineering para obtener la cantidad de partidos jugados por cada equipo\n",
        "\n",
        "# Habra algun mes en donde el rendimiento se vea aectado?\n",
        "# create columns by month based on date\n",
        "football_reduced_df['month'] = football_reduced_df['match_date'].dt.month\n",
        "\n",
        "# how many matches did win the home/away team in the last 10 matches\n",
        "home_history_goals = football_train_df.filter(regex='home_team_history_goal', axis=1).to_numpy()\n",
        "home_history_oponent_goals = football_train_df.filter(regex='home_team_history_opponent_goal', axis=1).to_numpy()\n",
        "football_reduced_df['home_wins_last_10'] = (home_history_goals > home_history_oponent_goals).sum(axis=1)\n",
        "football_reduced_df['home_dawn_last_10'] = (home_history_goals == home_history_oponent_goals).sum(axis=1)\n",
        "football_reduced_df['home_lose_last_10'] = (home_history_goals < home_history_oponent_goals).sum(axis=1)\n",
        "\n",
        "away_history_goals = football_train_df.filter(regex='away_team_history_goal', axis=1).to_numpy()\n",
        "away_history_oponent_goals = football_train_df.filter(regex='away_team_history_opponent_goal', axis=1).to_numpy()\n",
        "football_reduced_df['away_wins_last_10'] = (away_history_goals > away_history_oponent_goals).sum(axis=1)\n",
        "football_reduced_df['away_dawn_last_10'] = (away_history_goals == away_history_oponent_goals).sum(axis=1)\n",
        "football_reduced_df['away_lose_last_10'] = (away_history_goals < away_history_oponent_goals).sum(axis=1)\n",
        "\n",
        "# mean team rating and oponent rating\n",
        "football_reduced_df['home_avg_rating_last_10'] = football_train_df.filter(regex='home_team_history_rating', axis=1).mean(axis=1)\n",
        "football_reduced_df['home_avg_opponent_rating_last_10'] = football_train_df.filter(regex='home_team_history_opponent_rating', axis=1).mean(axis=1)\n",
        "\n",
        "football_reduced_df['away_avg_rating_last_10'] = football_train_df.filter(regex='away_team_history_rating', axis=1).mean(axis=1)\n",
        "football_reduced_df['away_avg_opponent_rating_last_10'] = football_train_df.filter(regex='away_team_history_opponent_rating', axis=1).mean(axis=1)\n",
        "\n",
        "print(football_reduced_df.shape)\n"
      ]
    },
    {
      "cell_type": "code",
      "execution_count": null,
      "metadata": {
        "id": "ePGUGjFmnIqW",
        "outputId": "32722594-de23-45b6-ed04-73a0e839ef67"
      },
      "outputs": [
        {
          "data": {
            "text/plain": [
              "Index(['home_team_name', 'away_team_name', 'match_date', 'league_name',\n",
              "       'is_cup', 'home_score', 'away_score', 'target',\n",
              "       'home_days_betwent_last_match', 'home_avg_home_goal_last_10',\n",
              "       'home_avg_opponent_goal_last_10', 'away_avg_home_goal_last_10',\n",
              "       'away_avg_opponent_goal_last_10', 'month', 'home_wins_last_10',\n",
              "       'home_dawn_last_10', 'home_lose_last_10', 'away_wins_last_10',\n",
              "       'away_dawn_last_10', 'away_lose_last_10', 'home_avg_rating_last_10',\n",
              "       'home_avg_opponent_rating_last_10', 'away_avg_rating_last_10',\n",
              "       'away_avg_opponent_rating_last_10'],\n",
              "      dtype='object')"
            ]
          },
          "execution_count": 121,
          "metadata": {},
          "output_type": "execute_result"
        }
      ],
      "source": [
        "football_reduced_df.columns"
      ]
    },
    {
      "cell_type": "markdown",
      "metadata": {
        "id": "8QLWND8znIq1"
      },
      "source": [
        "## Model Selection"
      ]
    },
    {
      "cell_type": "code",
      "source": [
        "# get columns datatype\n",
        "football_reduced_df.dtypes\n",
        "\n",
        "# join football_reduced_df and football_train_df\n",
        "football_train_df = football_train_df.join(football_reduced_df[[\n",
        "       'home_days_betwent_last_match', 'home_avg_home_goal_last_10',\n",
        "       'home_avg_opponent_goal_last_10', 'away_avg_home_goal_last_10',\n",
        "       'away_avg_opponent_goal_last_10', 'month', 'home_wins_last_10',\n",
        "       'home_dawn_last_10', 'home_lose_last_10', 'away_wins_last_10',\n",
        "       'away_dawn_last_10', 'away_lose_last_10', 'home_avg_rating_last_10',\n",
        "       'home_avg_opponent_rating_last_10', 'away_avg_rating_last_10',\n",
        "       'away_avg_opponent_rating_last_10']])\n"
      ],
      "metadata": {
        "id": "pow0GjiDRqwc"
      },
      "execution_count": null,
      "outputs": []
    },
    {
      "cell_type": "code",
      "execution_count": null,
      "metadata": {
        "id": "jXms9QJ1nIq2",
        "outputId": "0d80e814-2fcc-407b-ceaf-3ba74d07abf6",
        "colab": {
          "base_uri": "https://localhost:8080/"
        }
      },
      "outputs": [
        {
          "output_type": "stream",
          "name": "stdout",
          "text": [
            "(110938, 207)\n",
            "(110938, 24)\n"
          ]
        }
      ],
      "source": [
        "\n",
        "print(football_train_df.shape)\n",
        "#football_reduced_df.dropna(inplace=True)\n",
        "print(football_reduced_df.shape)"
      ]
    },
    {
      "cell_type": "code",
      "execution_count": null,
      "metadata": {
        "id": "HS1Xuaq-nIq3"
      },
      "outputs": [],
      "source": [
        "# Split into test dataset and train dataset\n",
        "from sklearn.model_selection import train_test_split\n",
        "\n",
        "\n",
        "X = football_reduced_df.drop([\n",
        "    'home_team_name',\n",
        "    'away_team_name',\n",
        "    'target',\n",
        "    'match_date',\n",
        "    'league_name',\n",
        "    'home_score',\n",
        "    'away_score'], axis=1)\n",
        "\n",
        "Y = football_reduced_df['target']\n",
        "\n",
        "X_train, X_test, Y_train, Y_test = train_test_split(X, Y, test_size=0.2, random_state=42)\n"
      ]
    },
    {
      "cell_type": "markdown",
      "metadata": {
        "id": "liOTTHNBnIrH"
      },
      "source": [
        "### Test Linear Regression\n"
      ]
    },
    {
      "cell_type": "markdown",
      "metadata": {
        "id": "Qa2aHjCcnIrd"
      },
      "source": [
        "### Test K-Nearest Neighbors"
      ]
    },
    {
      "cell_type": "code",
      "execution_count": null,
      "metadata": {
        "colab": {
          "base_uri": "https://localhost:8080/",
          "height": 478
        },
        "id": "BlJmigMGnIre",
        "outputId": "91aea529-4329-4953-e6ac-4dd836ba4ec2"
      },
      "outputs": [
        {
          "output_type": "error",
          "ename": "ValueError",
          "evalue": "Input X contains NaN.\nKNeighborsClassifier does not accept missing values encoded as NaN natively. For supervised learning, you might want to consider sklearn.ensemble.HistGradientBoostingClassifier and Regressor which accept missing values encoded as NaNs natively. Alternatively, it is possible to preprocess the data, for instance by using an imputer transformer in a pipeline or drop samples with missing values. See https://scikit-learn.org/stable/modules/impute.html You can find a list of all estimators that handle NaN values at the following page: https://scikit-learn.org/stable/modules/impute.html#estimators-that-handle-nan-values",
          "traceback": [
            "\u001b[0;31m---------------------------------------------------------------------------\u001b[0m",
            "\u001b[0;31mValueError\u001b[0m                                Traceback (most recent call last)",
            "\u001b[0;32m<ipython-input-10-f5a4796deaa2>\u001b[0m in \u001b[0;36m<cell line: 6>\u001b[0;34m()\u001b[0m\n\u001b[1;32m      4\u001b[0m \u001b[0;34m\u001b[0m\u001b[0m\n\u001b[1;32m      5\u001b[0m \u001b[0mknn\u001b[0m \u001b[0;34m=\u001b[0m \u001b[0mKNeighborsClassifier\u001b[0m\u001b[0;34m(\u001b[0m\u001b[0mn_neighbors\u001b[0m\u001b[0;34m=\u001b[0m\u001b[0;36m20\u001b[0m\u001b[0;34m)\u001b[0m\u001b[0;34m\u001b[0m\u001b[0;34m\u001b[0m\u001b[0m\n\u001b[0;32m----> 6\u001b[0;31m \u001b[0mknn\u001b[0m\u001b[0;34m.\u001b[0m\u001b[0mfit\u001b[0m\u001b[0;34m(\u001b[0m\u001b[0mX_train\u001b[0m\u001b[0;34m,\u001b[0m \u001b[0mY_train\u001b[0m\u001b[0;34m)\u001b[0m\u001b[0;34m\u001b[0m\u001b[0;34m\u001b[0m\u001b[0m\n\u001b[0m\u001b[1;32m      7\u001b[0m \u001b[0;34m\u001b[0m\u001b[0m\n\u001b[1;32m      8\u001b[0m \u001b[0my_hat\u001b[0m \u001b[0;34m=\u001b[0m \u001b[0mknn\u001b[0m\u001b[0;34m.\u001b[0m\u001b[0mpredict\u001b[0m\u001b[0;34m(\u001b[0m\u001b[0mX_test\u001b[0m\u001b[0;34m)\u001b[0m\u001b[0;34m\u001b[0m\u001b[0;34m\u001b[0m\u001b[0m\n",
            "\u001b[0;32m/usr/local/lib/python3.10/dist-packages/sklearn/neighbors/_classification.py\u001b[0m in \u001b[0;36mfit\u001b[0;34m(self, X, y)\u001b[0m\n\u001b[1;32m    213\u001b[0m         \u001b[0mself\u001b[0m\u001b[0;34m.\u001b[0m\u001b[0m_validate_params\u001b[0m\u001b[0;34m(\u001b[0m\u001b[0;34m)\u001b[0m\u001b[0;34m\u001b[0m\u001b[0;34m\u001b[0m\u001b[0m\n\u001b[1;32m    214\u001b[0m \u001b[0;34m\u001b[0m\u001b[0m\n\u001b[0;32m--> 215\u001b[0;31m         \u001b[0;32mreturn\u001b[0m \u001b[0mself\u001b[0m\u001b[0;34m.\u001b[0m\u001b[0m_fit\u001b[0m\u001b[0;34m(\u001b[0m\u001b[0mX\u001b[0m\u001b[0;34m,\u001b[0m \u001b[0my\u001b[0m\u001b[0;34m)\u001b[0m\u001b[0;34m\u001b[0m\u001b[0;34m\u001b[0m\u001b[0m\n\u001b[0m\u001b[1;32m    216\u001b[0m \u001b[0;34m\u001b[0m\u001b[0m\n\u001b[1;32m    217\u001b[0m     \u001b[0;32mdef\u001b[0m \u001b[0mpredict\u001b[0m\u001b[0;34m(\u001b[0m\u001b[0mself\u001b[0m\u001b[0;34m,\u001b[0m \u001b[0mX\u001b[0m\u001b[0;34m)\u001b[0m\u001b[0;34m:\u001b[0m\u001b[0;34m\u001b[0m\u001b[0;34m\u001b[0m\u001b[0m\n",
            "\u001b[0;32m/usr/local/lib/python3.10/dist-packages/sklearn/neighbors/_base.py\u001b[0m in \u001b[0;36m_fit\u001b[0;34m(self, X, y)\u001b[0m\n\u001b[1;32m    452\u001b[0m         \u001b[0;32mif\u001b[0m \u001b[0mself\u001b[0m\u001b[0;34m.\u001b[0m\u001b[0m_get_tags\u001b[0m\u001b[0;34m(\u001b[0m\u001b[0;34m)\u001b[0m\u001b[0;34m[\u001b[0m\u001b[0;34m\"requires_y\"\u001b[0m\u001b[0;34m]\u001b[0m\u001b[0;34m:\u001b[0m\u001b[0;34m\u001b[0m\u001b[0;34m\u001b[0m\u001b[0m\n\u001b[1;32m    453\u001b[0m             \u001b[0;32mif\u001b[0m \u001b[0;32mnot\u001b[0m \u001b[0misinstance\u001b[0m\u001b[0;34m(\u001b[0m\u001b[0mX\u001b[0m\u001b[0;34m,\u001b[0m \u001b[0;34m(\u001b[0m\u001b[0mKDTree\u001b[0m\u001b[0;34m,\u001b[0m \u001b[0mBallTree\u001b[0m\u001b[0;34m,\u001b[0m \u001b[0mNeighborsBase\u001b[0m\u001b[0;34m)\u001b[0m\u001b[0;34m)\u001b[0m\u001b[0;34m:\u001b[0m\u001b[0;34m\u001b[0m\u001b[0;34m\u001b[0m\u001b[0m\n\u001b[0;32m--> 454\u001b[0;31m                 X, y = self._validate_data(\n\u001b[0m\u001b[1;32m    455\u001b[0m                     \u001b[0mX\u001b[0m\u001b[0;34m,\u001b[0m \u001b[0my\u001b[0m\u001b[0;34m,\u001b[0m \u001b[0maccept_sparse\u001b[0m\u001b[0;34m=\u001b[0m\u001b[0;34m\"csr\"\u001b[0m\u001b[0;34m,\u001b[0m \u001b[0mmulti_output\u001b[0m\u001b[0;34m=\u001b[0m\u001b[0;32mTrue\u001b[0m\u001b[0;34m,\u001b[0m \u001b[0morder\u001b[0m\u001b[0;34m=\u001b[0m\u001b[0;34m\"C\"\u001b[0m\u001b[0;34m\u001b[0m\u001b[0;34m\u001b[0m\u001b[0m\n\u001b[1;32m    456\u001b[0m                 )\n",
            "\u001b[0;32m/usr/local/lib/python3.10/dist-packages/sklearn/base.py\u001b[0m in \u001b[0;36m_validate_data\u001b[0;34m(self, X, y, reset, validate_separately, **check_params)\u001b[0m\n\u001b[1;32m    582\u001b[0m                 \u001b[0my\u001b[0m \u001b[0;34m=\u001b[0m \u001b[0mcheck_array\u001b[0m\u001b[0;34m(\u001b[0m\u001b[0my\u001b[0m\u001b[0;34m,\u001b[0m \u001b[0minput_name\u001b[0m\u001b[0;34m=\u001b[0m\u001b[0;34m\"y\"\u001b[0m\u001b[0;34m,\u001b[0m \u001b[0;34m**\u001b[0m\u001b[0mcheck_y_params\u001b[0m\u001b[0;34m)\u001b[0m\u001b[0;34m\u001b[0m\u001b[0;34m\u001b[0m\u001b[0m\n\u001b[1;32m    583\u001b[0m             \u001b[0;32melse\u001b[0m\u001b[0;34m:\u001b[0m\u001b[0;34m\u001b[0m\u001b[0;34m\u001b[0m\u001b[0m\n\u001b[0;32m--> 584\u001b[0;31m                 \u001b[0mX\u001b[0m\u001b[0;34m,\u001b[0m \u001b[0my\u001b[0m \u001b[0;34m=\u001b[0m \u001b[0mcheck_X_y\u001b[0m\u001b[0;34m(\u001b[0m\u001b[0mX\u001b[0m\u001b[0;34m,\u001b[0m \u001b[0my\u001b[0m\u001b[0;34m,\u001b[0m \u001b[0;34m**\u001b[0m\u001b[0mcheck_params\u001b[0m\u001b[0;34m)\u001b[0m\u001b[0;34m\u001b[0m\u001b[0;34m\u001b[0m\u001b[0m\n\u001b[0m\u001b[1;32m    585\u001b[0m             \u001b[0mout\u001b[0m \u001b[0;34m=\u001b[0m \u001b[0mX\u001b[0m\u001b[0;34m,\u001b[0m \u001b[0my\u001b[0m\u001b[0;34m\u001b[0m\u001b[0;34m\u001b[0m\u001b[0m\n\u001b[1;32m    586\u001b[0m \u001b[0;34m\u001b[0m\u001b[0m\n",
            "\u001b[0;32m/usr/local/lib/python3.10/dist-packages/sklearn/utils/validation.py\u001b[0m in \u001b[0;36mcheck_X_y\u001b[0;34m(X, y, accept_sparse, accept_large_sparse, dtype, order, copy, force_all_finite, ensure_2d, allow_nd, multi_output, ensure_min_samples, ensure_min_features, y_numeric, estimator)\u001b[0m\n\u001b[1;32m   1104\u001b[0m         )\n\u001b[1;32m   1105\u001b[0m \u001b[0;34m\u001b[0m\u001b[0m\n\u001b[0;32m-> 1106\u001b[0;31m     X = check_array(\n\u001b[0m\u001b[1;32m   1107\u001b[0m         \u001b[0mX\u001b[0m\u001b[0;34m,\u001b[0m\u001b[0;34m\u001b[0m\u001b[0;34m\u001b[0m\u001b[0m\n\u001b[1;32m   1108\u001b[0m         \u001b[0maccept_sparse\u001b[0m\u001b[0;34m=\u001b[0m\u001b[0maccept_sparse\u001b[0m\u001b[0;34m,\u001b[0m\u001b[0;34m\u001b[0m\u001b[0;34m\u001b[0m\u001b[0m\n",
            "\u001b[0;32m/usr/local/lib/python3.10/dist-packages/sklearn/utils/validation.py\u001b[0m in \u001b[0;36mcheck_array\u001b[0;34m(array, accept_sparse, accept_large_sparse, dtype, order, copy, force_all_finite, ensure_2d, allow_nd, ensure_min_samples, ensure_min_features, estimator, input_name)\u001b[0m\n\u001b[1;32m    919\u001b[0m \u001b[0;34m\u001b[0m\u001b[0m\n\u001b[1;32m    920\u001b[0m         \u001b[0;32mif\u001b[0m \u001b[0mforce_all_finite\u001b[0m\u001b[0;34m:\u001b[0m\u001b[0;34m\u001b[0m\u001b[0;34m\u001b[0m\u001b[0m\n\u001b[0;32m--> 921\u001b[0;31m             _assert_all_finite(\n\u001b[0m\u001b[1;32m    922\u001b[0m                 \u001b[0marray\u001b[0m\u001b[0;34m,\u001b[0m\u001b[0;34m\u001b[0m\u001b[0;34m\u001b[0m\u001b[0m\n\u001b[1;32m    923\u001b[0m                 \u001b[0minput_name\u001b[0m\u001b[0;34m=\u001b[0m\u001b[0minput_name\u001b[0m\u001b[0;34m,\u001b[0m\u001b[0;34m\u001b[0m\u001b[0;34m\u001b[0m\u001b[0m\n",
            "\u001b[0;32m/usr/local/lib/python3.10/dist-packages/sklearn/utils/validation.py\u001b[0m in \u001b[0;36m_assert_all_finite\u001b[0;34m(X, allow_nan, msg_dtype, estimator_name, input_name)\u001b[0m\n\u001b[1;32m    159\u001b[0m                 \u001b[0;34m\"#estimators-that-handle-nan-values\"\u001b[0m\u001b[0;34m\u001b[0m\u001b[0;34m\u001b[0m\u001b[0m\n\u001b[1;32m    160\u001b[0m             )\n\u001b[0;32m--> 161\u001b[0;31m         \u001b[0;32mraise\u001b[0m \u001b[0mValueError\u001b[0m\u001b[0;34m(\u001b[0m\u001b[0mmsg_err\u001b[0m\u001b[0;34m)\u001b[0m\u001b[0;34m\u001b[0m\u001b[0;34m\u001b[0m\u001b[0m\n\u001b[0m\u001b[1;32m    162\u001b[0m \u001b[0;34m\u001b[0m\u001b[0m\n\u001b[1;32m    163\u001b[0m \u001b[0;34m\u001b[0m\u001b[0m\n",
            "\u001b[0;31mValueError\u001b[0m: Input X contains NaN.\nKNeighborsClassifier does not accept missing values encoded as NaN natively. For supervised learning, you might want to consider sklearn.ensemble.HistGradientBoostingClassifier and Regressor which accept missing values encoded as NaNs natively. Alternatively, it is possible to preprocess the data, for instance by using an imputer transformer in a pipeline or drop samples with missing values. See https://scikit-learn.org/stable/modules/impute.html You can find a list of all estimators that handle NaN values at the following page: https://scikit-learn.org/stable/modules/impute.html#estimators-that-handle-nan-values"
          ]
        }
      ],
      "source": [
        "# Test KKN for classification\n",
        "from sklearn.neighbors import KNeighborsClassifier\n",
        "from sklearn.metrics import accuracy_score\n",
        "\n",
        "knn = KNeighborsClassifier(n_neighbors=20)\n",
        "knn.fit(X_train, Y_train)\n",
        "\n",
        "y_hat = knn.predict(X_test)\n",
        "accuracy_score(Y_test, y_hat)"
      ]
    },
    {
      "cell_type": "markdown",
      "metadata": {
        "id": "zk90Of7fnIry"
      },
      "source": [
        "### Random Forest"
      ]
    },
    {
      "cell_type": "code",
      "execution_count": null,
      "metadata": {
        "id": "tsUW-HyQnIr1",
        "outputId": "9407bc60-0f13-4947-8e82-f90c20101ae5"
      },
      "outputs": [
        {
          "data": {
            "text/plain": [
              "0.46486829577911776"
            ]
          },
          "execution_count": 133,
          "metadata": {},
          "output_type": "execute_result"
        }
      ],
      "source": [
        "# Random forest\n",
        "from sklearn.ensemble import RandomForestClassifier\n",
        "\n",
        "rf = RandomForestClassifier(n_estimators=100, random_state=42)\n",
        "rf.fit(X_train, Y_train)\n",
        "\n",
        "y_hat = rf.predict(X_test)\n",
        "accuracy_score(Y_test, y_hat)"
      ]
    },
    {
      "cell_type": "code",
      "source": [
        "from sklearn.metrics import accuracy_score\n",
        "from sklearn.model_selection import cross_val_score\n",
        "from sklearn.model_selection import train_test_split\n",
        "from sklearn.preprocessing import StandardScaler\n",
        "\n",
        "\n",
        "#scores = cross_val_score(rf, X, Y, cv=5, scoring='accuracy')\n",
        "#print(scores)\n",
        "# Random forest with original dropped data\n",
        "#aux_df = football_train_df.dropna().copy()\n",
        "se = StandardScaler()\n",
        "\n",
        "aux_df = football_train_df.copy()\n",
        "for col in aux_df.filter(regex='date', axis=1).columns:\n",
        "    aux_df.drop(col, axis=1, inplace=True)\n",
        "\n",
        "X = aux_df.drop([\n",
        "    'home_team_name',\n",
        "    'away_team_name',\n",
        "    #'target',\n",
        "    'league_name',\n",
        "    'home_score',\n",
        "    'away_score'], axis=1)\n",
        "\n",
        "X = X.fillna(0)\n",
        "Y = X['target']\n",
        "X.drop('target', axis=1, inplace=True)\n",
        "\n",
        "X = se.fit_transform(X)\n",
        "Y = le.fit_transform(Y)\n",
        "\n",
        "X_train, X_test, Y_train, Y_test = train_test_split(X, Y, test_size=0.1, random_state=42)\n"
      ],
      "metadata": {
        "id": "n8HjOmH5t7VE"
      },
      "execution_count": null,
      "outputs": []
    },
    {
      "cell_type": "code",
      "execution_count": null,
      "metadata": {
        "id": "qwKmB7CtnIr2",
        "colab": {
          "base_uri": "https://localhost:8080/"
        },
        "outputId": "f78e0f03-8fed-4560-f180-5eb6e6b8329f"
      },
      "outputs": [
        {
          "output_type": "execute_result",
          "data": {
            "text/plain": [
              "0.4889129259058951"
            ]
          },
          "metadata": {},
          "execution_count": 15
        }
      ],
      "source": [
        "from sklearn.ensemble import RandomForestClassifier\n",
        "\n",
        "rf = RandomForestClassifier(n_estimators=200)\n",
        "rf.fit(X_train, Y_train)\n",
        "\n",
        "y_hat = rf.predict(X_test)\n",
        "accuracy_score(Y_test, y_hat)\n"
      ]
    },
    {
      "cell_type": "code",
      "execution_count": null,
      "metadata": {
        "id": "arzgPZ00nIsB",
        "outputId": "1441f1f1-244b-4a64-f47b-58f76b8c7475"
      },
      "outputs": [
        {
          "name": "stdout",
          "output_type": "stream",
          "text": [
            "[1.         0.99986602 1.         1.         0.99993301]\n"
          ]
        }
      ],
      "source": [
        "# Cross validation Random FOrest\n",
        "from sklearn.model_selection import cross_val_score\n",
        "\n",
        "scores = cross_val_score(rf, X, Y, cv=5, scoring='accuracy')\n",
        "print(scores)"
      ]
    },
    {
      "cell_type": "code",
      "execution_count": null,
      "metadata": {
        "id": "XT4M65yOnIsY",
        "outputId": "719a1069-588b-423a-aef1-8d114290c370"
      },
      "outputs": [
        {
          "name": "stdout",
          "output_type": "stream",
          "text": [
            "<class 'numpy.ndarray'>\n"
          ]
        }
      ],
      "source": [
        "print(type(scores))"
      ]
    },
    {
      "cell_type": "code",
      "execution_count": null,
      "metadata": {
        "id": "bfoFvvzunIsa"
      },
      "outputs": [],
      "source": [
        "scores = cross_val_score(rf, X, Y, cv=5, scoring='accuracy')\n",
        "print(scores)"
      ]
    },
    {
      "cell_type": "markdown",
      "metadata": {
        "id": "RwKo_tKEnIsh"
      },
      "source": [
        "|     | reducced | full_dropna_without_coach |fd_fill0_without_coach | Merged |\n",
        "|-----|----------|---------------------------|-----------------------|--------|\n",
        "| kn  | 0.44     |      0.39                 |          0.42         |        |\n",
        "| rt  | 0.46     |      0.47                 |          0.46         |        |\n",
        "|CV-kn|          |                           |          0.41         |        |\n",
        "|CV-rt|          |                           |       0.99 - 1        |        |"
      ]
    },
    {
      "cell_type": "code",
      "execution_count": null,
      "metadata": {
        "id": "z3Cm387vnIss",
        "outputId": "71c35c0e-2ca9-4755-b6d2-19c6d42b0743"
      },
      "outputs": [
        {
          "name": "stdout",
          "output_type": "stream",
          "text": [
            "(74641, 143)\n"
          ]
        }
      ],
      "source": [
        "print(X.shape)"
      ]
    },
    {
      "cell_type": "code",
      "execution_count": null,
      "metadata": {
        "colab": {
          "base_uri": "https://localhost:8080/"
        },
        "id": "am18jHulnIsx",
        "outputId": "53338ba3-fc9c-4d29-f712-09f6276cf8d7"
      },
      "outputs": [
        {
          "output_type": "execute_result",
          "data": {
            "text/plain": [
              "0.42410311880295654"
            ]
          },
          "metadata": {},
          "execution_count": 73
        }
      ],
      "source": [
        "knn = KNeighborsClassifier(n_neighbors=200)\n",
        "knn.fit(X_train, Y_train)\n",
        "\n",
        "y_hat = knn.predict(X_test)\n",
        "accuracy_score(Y_test, y_hat)"
      ]
    },
    {
      "cell_type": "code",
      "execution_count": null,
      "metadata": {
        "id": "Vvcx9aHenIs3",
        "outputId": "0601c4d2-cb5c-46de-ba60-e1de0978d28a"
      },
      "outputs": [
        {
          "name": "stdout",
          "output_type": "stream",
          "text": [
            "[0.40980642 0.40159432 0.40507771 0.42825563 0.4249732 ]\n"
          ]
        }
      ],
      "source": [
        "# knn cross validation\n",
        "scores = cross_val_score(knn, X, Y, cv=5, scoring='accuracy')\n",
        "print(scores)"
      ]
    },
    {
      "cell_type": "code",
      "execution_count": null,
      "metadata": {
        "id": "Nz3dRhADnItl",
        "outputId": "da5e7b84-5413-42bb-9bfa-5c9ac1eb13a4"
      },
      "outputs": [
        {
          "data": {
            "text/plain": [
              "0.4139414548979496"
            ]
          },
          "execution_count": 161,
          "metadata": {},
          "output_type": "execute_result"
        }
      ],
      "source": [
        "scores.mean()"
      ]
    },
    {
      "cell_type": "markdown",
      "metadata": {
        "id": "TZOwO-ybnItm"
      },
      "source": [
        "### Test XGBoost for Regression"
      ]
    },
    {
      "cell_type": "code",
      "execution_count": null,
      "metadata": {
        "colab": {
          "base_uri": "https://localhost:8080/"
        },
        "id": "RbgS9DP1nIt3",
        "outputId": "4bb94cce-fb20-4222-d8ac-59c558ccc1af"
      },
      "outputs": [
        {
          "output_type": "stream",
          "name": "stdout",
          "text": [
            "Fitting 2 folds for each of 20 candidates, totalling 40 fits\n",
            "Best parameters found by Grid Search: {'subsample': 0.9, 'reg_lambda': 10, 'reg_alpha': 0.1, 'n_estimators': 200, 'max_depth': 5, 'learning_rate': 0.1, 'gamma': 0.4, 'colsample_bytree': 0.5}\n"
          ]
        }
      ],
      "source": [
        "# code for a XGBoost regressor\n",
        "from xgboost import XGBClassifier\n",
        "from sklearn.model_selection import GridSearchCV, RandomizedSearchCV\n",
        "\n",
        "xgb = XGBClassifier()\n",
        "\n",
        "param_grid = {\n",
        "    'learning_rate': [0.01, 0.05, 0.1, 0.2],\n",
        "    'max_depth': [3, 5, 7, 9],\n",
        "    'n_estimators': [50, 100, 200, 500],\n",
        "    'subsample': [0.5, 0.7, 0.9, 1.0],\n",
        "    'colsample_bytree': [0.5, 0.7, 0.9, 1.0],\n",
        "    'gamma': [0, 0.1, 0.2, 0.3, 0.4],\n",
        "    'reg_alpha': [0, 0.1, 1, 10],\n",
        "    'reg_lambda': [0, 0.1, 1, 10]\n",
        "}\n",
        "\n",
        "random_search = RandomizedSearchCV(xgb, param_grid, n_iter=20, scoring='accuracy', cv=2, verbose=1, n_jobs=-1)\n",
        "random_search.fit(X_train, Y_train)\n",
        "\n",
        "print(f\"Best parameters found by Grid Search: {random_search.best_params_}\")\n",
        "#y_hat = xgb.predict(X_test)\n",
        "#accuracy_score(Y_test, y_hat)"
      ]
    },
    {
      "cell_type": "code",
      "source": [
        "from xgboost import XGBClassifier\n",
        "\n",
        "params = {'subsample': 0.9, 'reg_lambda': 10, 'reg_alpha': 0.1, 'n_estimators': 200, 'max_depth': 5, 'learning_rate': 0.1, 'gamma': 0.4, 'colsample_bytree': 0.5}\n",
        "xgb = XGBClassifier(params)\n",
        "xgb.fit(X_train, Y_train)\n",
        "\n",
        "y_hat = xgb.predict(X_test)\n",
        "accuracy_score(Y_test, y_hat)"
      ],
      "metadata": {
        "colab": {
          "base_uri": "https://localhost:8080/"
        },
        "id": "hPfx-OCZvbft",
        "outputId": "28edb9e1-f700-464a-d35b-0824cb959fa2"
      },
      "execution_count": null,
      "outputs": [
        {
          "output_type": "execute_result",
          "data": {
            "text/plain": [
              "0.4830539030106364"
            ]
          },
          "metadata": {},
          "execution_count": 74
        }
      ]
    },
    {
      "cell_type": "markdown",
      "source": [
        "Un modelo aleatorio es mejor?"
      ],
      "metadata": {
        "id": "4tObYMvi-Kvu"
      }
    },
    {
      "cell_type": "code",
      "source": [
        "# generate pandas df with random integer values 0, 1 or 2\n",
        "import numpy as np\n",
        "df = pd.DataFrame(np.random.randint(0, 3, size=football_target_df.shape), columns=['random'])\n",
        "print(football_train_df.shape)\n",
        "\n",
        "# Count random column and target column and calculate accuracy\n",
        "accuracy_score(df['random'], football_train_df['target'])\n"
      ],
      "metadata": {
        "colab": {
          "base_uri": "https://localhost:8080/"
        },
        "id": "3x-DtvfO-KIV",
        "outputId": "ff142d85-426f-4d86-b37d-0c8ef772931a"
      },
      "execution_count": null,
      "outputs": [
        {
          "output_type": "stream",
          "name": "stdout",
          "text": [
            "(110938, 191)\n"
          ]
        },
        {
          "output_type": "execute_result",
          "data": {
            "text/plain": [
              "0.3338801853287422"
            ]
          },
          "metadata": {},
          "execution_count": 62
        }
      ]
    },
    {
      "cell_type": "code",
      "source": [
        "# Red neuronal con Tenserflow\n",
        "from sklearn.preprocessing import StandardScaler\n",
        "from sklearn.preprocessing import LabelEncoder\n",
        "from sklearn.metrics import accuracy_score\n",
        "\n",
        "from tensorflow.keras.models import Sequential\n",
        "from tensorflow.keras.layers import Dense\n",
        "from tensorflow.keras.utils import to_categorical\n",
        "\n",
        "sc = StandardScaler()\n",
        "X_train = sc.fit_transform(X_train)\n",
        "X_test = sc.transform(X_test)\n",
        "\n",
        "# One hot encoding in Y\n",
        "Y_train = to_categorical(Y_train)\n",
        "Y_test = to_categorical(Y_test)\n",
        "\n",
        "print(X_train.shape)\n",
        "print(Y_train.shape)\n",
        "\n",
        "ann = Sequential()\n",
        "ann.add(Dense(units=8, activation='tanh', input_dim=X_train.shape[1]))\n",
        "ann.add(Dense(units=8, activation='softmax'))\n",
        "ann.add(Dense(units=8, activation='relu'))\n",
        "ann.add(Dense(units=8, activation='softmax'))\n",
        "ann.add(Dense(units=8, activation='relu'))\n",
        "ann.add(Dense(units=8, activation='relu'))\n",
        "ann.add(Dense(units=8, activation='tanh'))\n",
        "ann.add(Dense(units=3, activation='relu'))\n",
        "\n",
        "ann.compile( optimizer='adam',\n",
        "            loss='categorical_crossentropy',\n",
        "            metrics=['accuracy'] )\n",
        "\n",
        "ann.fit(X_train, Y_train, epochs=20, batch_size=32)\n"
      ],
      "metadata": {
        "colab": {
          "base_uri": "https://localhost:8080/"
        },
        "id": "APVKyA2nVcWt",
        "outputId": "a75f0bc5-c67d-42b0-921e-c26c967ebad0"
      },
      "execution_count": null,
      "outputs": [
        {
          "output_type": "stream",
          "name": "stdout",
          "text": [
            "(71149, 180)\n",
            "(71149, 3)\n",
            "Epoch 1/20\n",
            "2224/2224 [==============================] - 8s 3ms/step - loss: 1.0708 - accuracy: 0.4379\n",
            "Epoch 2/20\n",
            "2224/2224 [==============================] - 5s 2ms/step - loss: 1.0359 - accuracy: 0.4805\n",
            "Epoch 3/20\n",
            "2224/2224 [==============================] - 6s 3ms/step - loss: 1.0287 - accuracy: 0.4840\n",
            "Epoch 4/20\n",
            "2224/2224 [==============================] - 6s 3ms/step - loss: 1.0248 - accuracy: 0.4857\n",
            "Epoch 5/20\n",
            "2224/2224 [==============================] - 5s 2ms/step - loss: 1.0234 - accuracy: 0.4862\n",
            "Epoch 6/20\n",
            "2224/2224 [==============================] - 7s 3ms/step - loss: 1.0220 - accuracy: 0.4869\n",
            "Epoch 7/20\n",
            "2224/2224 [==============================] - 5s 2ms/step - loss: 1.0211 - accuracy: 0.4865\n",
            "Epoch 8/20\n",
            "2224/2224 [==============================] - 5s 2ms/step - loss: 1.0194 - accuracy: 0.4881\n",
            "Epoch 9/20\n",
            "2224/2224 [==============================] - 6s 3ms/step - loss: 1.0187 - accuracy: 0.4882\n",
            "Epoch 10/20\n",
            "2224/2224 [==============================] - 5s 2ms/step - loss: 1.0182 - accuracy: 0.4885\n",
            "Epoch 11/20\n",
            "2224/2224 [==============================] - 6s 3ms/step - loss: 1.0173 - accuracy: 0.4888\n",
            "Epoch 12/20\n",
            "2224/2224 [==============================] - 6s 2ms/step - loss: 1.0165 - accuracy: 0.4893\n",
            "Epoch 13/20\n",
            "2224/2224 [==============================] - 5s 2ms/step - loss: 1.0160 - accuracy: 0.4903\n",
            "Epoch 14/20\n",
            "2224/2224 [==============================] - 7s 3ms/step - loss: 1.0156 - accuracy: 0.4896\n",
            "Epoch 15/20\n",
            "2224/2224 [==============================] - 5s 2ms/step - loss: 1.0150 - accuracy: 0.4897\n",
            "Epoch 16/20\n",
            "2224/2224 [==============================] - 5s 2ms/step - loss: 1.0144 - accuracy: 0.4899\n",
            "Epoch 17/20\n",
            "2224/2224 [==============================] - 7s 3ms/step - loss: 1.0141 - accuracy: 0.4904\n",
            "Epoch 18/20\n",
            "2224/2224 [==============================] - 5s 2ms/step - loss: 1.0136 - accuracy: 0.4904\n",
            "Epoch 19/20\n",
            "2224/2224 [==============================] - 6s 2ms/step - loss: 1.0130 - accuracy: 0.4916\n",
            "Epoch 20/20\n",
            "2224/2224 [==============================] - 6s 3ms/step - loss: 1.0126 - accuracy: 0.4909\n"
          ]
        },
        {
          "output_type": "execute_result",
          "data": {
            "text/plain": [
              "<keras.src.callbacks.History at 0x78f5b2bcab90>"
            ]
          },
          "metadata": {},
          "execution_count": 10
        }
      ]
    },
    {
      "cell_type": "code",
      "source": [
        "loss, accuracy = ann.evaluate(X_test, Y_test)\n",
        "print(\"Accuracy:\", accuracy)"
      ],
      "metadata": {
        "colab": {
          "base_uri": "https://localhost:8080/"
        },
        "id": "XG-IPvZ9Wzj1",
        "outputId": "685b50d4-2b82-4f4a-ce39-71c9b8f1eaa2"
      },
      "execution_count": null,
      "outputs": [
        {
          "output_type": "stream",
          "name": "stdout",
          "text": [
            "248/248 [==============================] - 1s 2ms/step - loss: 1.0355 - accuracy: 0.4786\n",
            "Accuracy: 0.4786238372325897\n"
          ]
        }
      ]
    },
    {
      "cell_type": "markdown",
      "metadata": {
        "id": "i3gaYQmYnIt7"
      },
      "source": [
        "### Models Comparison"
      ]
    },
    {
      "cell_type": "code",
      "execution_count": null,
      "metadata": {
        "id": "7TNpyI_xnIuB"
      },
      "outputs": [],
      "source": [
        "# compare metrics"
      ]
    },
    {
      "cell_type": "markdown",
      "metadata": {
        "id": "9vQ_xT34nIuC"
      },
      "source": [
        "## Model Training"
      ]
    },
    {
      "cell_type": "code",
      "execution_count": null,
      "metadata": {
        "id": "t8RD1NrOnIuN"
      },
      "outputs": [],
      "source": [
        "# prepare data for the model\n",
        "\n",
        "# scaling data - additional encoder\n",
        "\n",
        "# feature selection\n",
        "\n",
        "# create model with hyperparameters\n",
        "\n",
        "# train model"
      ]
    },
    {
      "cell_type": "markdown",
      "metadata": {
        "id": "FPAROdK8nIuO"
      },
      "source": [
        "## Model Evaluation"
      ]
    },
    {
      "cell_type": "code",
      "execution_count": null,
      "metadata": {
        "id": "kfms3vh8nIuY"
      },
      "outputs": [],
      "source": [
        "# test metrics classical\n",
        "\n",
        "# show plots about results"
      ]
    },
    {
      "cell_type": "code",
      "execution_count": null,
      "metadata": {
        "id": "QF1_OLzZnIuZ"
      },
      "outputs": [],
      "source": [
        "# scatter plot comparing real and predicted values\n",
        "\n",
        "# line plot about real vs predicted\n",
        "\n",
        "# box plot about real vs predicted"
      ]
    },
    {
      "cell_type": "code",
      "execution_count": null,
      "metadata": {
        "id": "zDhR-JfVnIub"
      },
      "outputs": [],
      "source": [
        "# pickle the model\n",
        "import pickle\n",
        "\n",
        "# save the model to disk\n",
        "with open('model.pkl', 'wb') as model_file:\n",
        "    pickle.dump(model, model_file)"
      ]
    },
    {
      "cell_type": "markdown",
      "metadata": {
        "id": "NH_ukRoknIul"
      },
      "source": [
        "***"
      ]
    },
    {
      "cell_type": "markdown",
      "metadata": {
        "id": "N3MSPfjInIum"
      },
      "source": [
        "# Business Questions"
      ]
    },
    {
      "cell_type": "markdown",
      "metadata": {
        "id": "r_m0Om5DnIuv"
      },
      "source": [
        "1. What is the risk level for unpayments based on age and region?\n"
      ]
    },
    {
      "cell_type": "code",
      "execution_count": null,
      "metadata": {
        "id": "DXTxS3ZxnIuz"
      },
      "outputs": [],
      "source": [
        "# generate a table or a plot or a business metric"
      ]
    },
    {
      "cell_type": "markdown",
      "metadata": {
        "id": "epOaBpYYnIu1"
      },
      "source": [
        "2. What is average amount of unpayments? what is the segment of values where unpayments are appearin?"
      ]
    },
    {
      "cell_type": "code",
      "execution_count": null,
      "metadata": {
        "id": "WX9I7orKnIu2"
      },
      "outputs": [],
      "source": [
        "# generate a table or a plot or a business metric"
      ]
    }
  ],
  "metadata": {
    "kernelspec": {
      "display_name": "Python 3",
      "name": "python3"
    },
    "language_info": {
      "codemirror_mode": {
        "name": "ipython",
        "version": 3
      },
      "file_extension": ".py",
      "mimetype": "text/x-python",
      "name": "python",
      "nbconvert_exporter": "python",
      "pygments_lexer": "ipython3",
      "version": "3.11.9"
    },
    "colab": {
      "provenance": []
    }
  },
  "nbformat": 4,
  "nbformat_minor": 0
}