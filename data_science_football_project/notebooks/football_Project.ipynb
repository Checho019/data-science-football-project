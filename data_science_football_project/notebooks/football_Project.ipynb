{
 "cells": [
  {
   "cell_type": "markdown",
   "metadata": {},
   "source": [
    "# Project Football\n",
    "\n",
    "In this project we checked historical data about football matches.\n",
    "\n",
    "_SOL_: I made a change about some business questions."
   ]
  },
  {
   "cell_type": "markdown",
   "metadata": {},
   "source": [
    "## Data Collection"
   ]
  },
  {
   "cell_type": "code",
   "execution_count": 69,
   "metadata": {},
   "outputs": [
    {
     "name": "stderr",
     "output_type": "stream",
     "text": [
      "/tmp/ipykernel_8665/2508047730.py:4: DtypeWarning: Columns (7) have mixed types. Specify dtype option on import or set low_memory=False.\n",
      "  football_train_df = pd.read_csv('./data/football_train.csv')\n"
     ]
    },
    {
     "name": "stdout",
     "output_type": "stream",
     "text": [
      "train shape: (110938, 190)\n",
      "target shape: (110938, 3)\n"
     ]
    }
   ],
   "source": [
    "import pandas as pd\n",
    "\n",
    "# get data from kaggle\n",
    "football_train_df = pd.read_csv('./data/football_train.csv')\n",
    "football_target_df = pd.read_csv('./data/football_target.csv')\n",
    "\n",
    "# print shapes\n",
    "print(\"train shape:\",football_train_df.shape)\n",
    "print(\"target shape:\",football_target_df.shape)\n"
   ]
  },
  {
   "cell_type": "code",
   "execution_count": 70,
   "metadata": {},
   "outputs": [],
   "source": [
    "football_target_df.set_index('id', inplace=True)\n",
    "football_train_df.set_index('id', inplace=True)"
   ]
  },
  {
   "cell_type": "code",
   "execution_count": 71,
   "metadata": {},
   "outputs": [
    {
     "name": "stdout",
     "output_type": "stream",
     "text": [
      "(110938, 190)\n"
     ]
    }
   ],
   "source": [
    "# join football_train_df and football_target_df (only score column)\n",
    "football_target_df = football_target_df[['score']]\n",
    "football_train_df = football_train_df.join(football_target_df)\n",
    "print(football_train_df.shape)"
   ]
  },
  {
   "cell_type": "markdown",
   "metadata": {},
   "source": [
    "## Data Preprocessing"
   ]
  },
  {
   "cell_type": "markdown",
   "metadata": {},
   "source": [
    "### Data Cleaning\n",
    "\n",
    "We remove, fill, replace, ..."
   ]
  },
  {
   "cell_type": "code",
   "execution_count": 72,
   "metadata": {},
   "outputs": [
    {
     "name": "stdout",
     "output_type": "stream",
     "text": [
      "(79055, 190)\n"
     ]
    }
   ],
   "source": [
    "# remove every team that has less than 10 matches\n",
    "teams_less_10_matches = football_train_df['home_team_name'].value_counts() < 10\n",
    "teams_less_10_matches = teams_less_10_matches[teams_less_10_matches].index\n",
    "\n",
    "# remove teams from teams_less_10_matches\n",
    "football_train_df = football_train_df[~football_train_df['home_team_name'].isin(teams_less_10_matches)]\n",
    "football_train_df = football_train_df[~football_train_df['away_team_name'].isin(teams_less_10_matches)]\n",
    "print(football_train_df.shape)"
   ]
  },
  {
   "cell_type": "code",
   "execution_count": 73,
   "metadata": {},
   "outputs": [
    {
     "name": "stdout",
     "output_type": "stream",
     "text": [
      "(79055, 190)\n"
     ]
    }
   ],
   "source": [
    "# Extract diccionary with the league_id and league_name and drop league_name from the dataframes\n",
    "league_dict = football_train_df[['league_id', 'league_name']].drop_duplicates().set_index('league_id').to_dict()['league_name']\n",
    "print(football_train_df.shape)\n"
   ]
  },
  {
   "cell_type": "markdown",
   "metadata": {},
   "source": [
    "Se eliminaron los datos del coach debido a que habian muy poquitos que cumplian con esto y solamente añadia ruido \\\n",
    "Eliminamos todos los equipos que tuvieran menos de 10 partidos en el historico \\\n",
    "Eliminamos aquellas filas que tengan menos del 50% de información disponible\n"
   ]
  },
  {
   "cell_type": "markdown",
   "metadata": {},
   "source": [
    "### Filtros opcionales (ejecutar sin eliminar los equipos)"
   ]
  },
  {
   "cell_type": "code",
   "execution_count": null,
   "metadata": {},
   "outputs": [
    {
     "name": "stdout",
     "output_type": "stream",
     "text": [
      "(86969, 168)\n"
     ]
    }
   ],
   "source": [
    "# remove every column has \"coach\" in his name\n",
    "football_train_df = football_train_df[football_train_df.columns.drop(list(football_train_df.filter(regex='coach', axis=1)))]\n",
    "print(football_train_df.shape)"
   ]
  },
  {
   "cell_type": "code",
   "execution_count": null,
   "metadata": {},
   "outputs": [],
   "source": [
    "# remove every row has more than 50% of missing values\n",
    "football_train_df = football_train_df.dropna(thresh=0.5*len(football_train_df), axis=1)\n",
    "print(football_train_df.shape)\n"
   ]
  },
  {
   "cell_type": "code",
   "execution_count": null,
   "metadata": {},
   "outputs": [],
   "source": [
    "# remove every row has more than 70% of missing values\n",
    "football_train_df = football_train_df.dropna(thresh=0.7*len(football_train_df.columns), axis=0)\n",
    "print(football_train_df.shape)"
   ]
  },
  {
   "cell_type": "code",
   "execution_count": 57,
   "metadata": {},
   "outputs": [],
   "source": [
    "# code to remove duplicates\n",
    "football_train_df = football_train_df.drop_duplicates()"
   ]
  },
  {
   "cell_type": "code",
   "execution_count": 82,
   "metadata": {},
   "outputs": [
    {
     "data": {
      "text/plain": [
       "['target',\n",
       " 'home_team_name',\n",
       " 'away_team_name',\n",
       " 'match_date',\n",
       " 'league_name',\n",
       " 'league_id',\n",
       " 'is_cup',\n",
       " 'home_team_coach_id',\n",
       " 'away_team_coach_id',\n",
       " 'home_team_history_match_date_1',\n",
       " 'home_team_history_match_date_2',\n",
       " 'home_team_history_match_date_3',\n",
       " 'home_team_history_match_date_4',\n",
       " 'home_team_history_match_date_5',\n",
       " 'home_team_history_match_date_6',\n",
       " 'home_team_history_match_date_7',\n",
       " 'home_team_history_match_date_8',\n",
       " 'home_team_history_match_date_9',\n",
       " 'home_team_history_match_date_10',\n",
       " 'home_team_history_is_play_home_1',\n",
       " 'home_team_history_is_play_home_2',\n",
       " 'home_team_history_is_play_home_3',\n",
       " 'home_team_history_is_play_home_4',\n",
       " 'home_team_history_is_play_home_5',\n",
       " 'home_team_history_is_play_home_6',\n",
       " 'home_team_history_is_play_home_7',\n",
       " 'home_team_history_is_play_home_8',\n",
       " 'home_team_history_is_play_home_9',\n",
       " 'home_team_history_is_play_home_10',\n",
       " 'home_team_history_is_cup_1',\n",
       " 'home_team_history_is_cup_2',\n",
       " 'home_team_history_is_cup_3',\n",
       " 'home_team_history_is_cup_4',\n",
       " 'home_team_history_is_cup_5',\n",
       " 'home_team_history_is_cup_6',\n",
       " 'home_team_history_is_cup_7',\n",
       " 'home_team_history_is_cup_8',\n",
       " 'home_team_history_is_cup_9',\n",
       " 'home_team_history_is_cup_10',\n",
       " 'home_team_history_goal_1',\n",
       " 'home_team_history_goal_2',\n",
       " 'home_team_history_goal_3',\n",
       " 'home_team_history_goal_4',\n",
       " 'home_team_history_goal_5',\n",
       " 'home_team_history_goal_6',\n",
       " 'home_team_history_goal_7',\n",
       " 'home_team_history_goal_8',\n",
       " 'home_team_history_goal_9',\n",
       " 'home_team_history_goal_10',\n",
       " 'home_team_history_opponent_goal_1',\n",
       " 'home_team_history_opponent_goal_2',\n",
       " 'home_team_history_opponent_goal_3',\n",
       " 'home_team_history_opponent_goal_4',\n",
       " 'home_team_history_opponent_goal_5',\n",
       " 'home_team_history_opponent_goal_6',\n",
       " 'home_team_history_opponent_goal_7',\n",
       " 'home_team_history_opponent_goal_8',\n",
       " 'home_team_history_opponent_goal_9',\n",
       " 'home_team_history_opponent_goal_10',\n",
       " 'home_team_history_rating_1',\n",
       " 'home_team_history_rating_2',\n",
       " 'home_team_history_rating_3',\n",
       " 'home_team_history_rating_4',\n",
       " 'home_team_history_rating_5',\n",
       " 'home_team_history_rating_6',\n",
       " 'home_team_history_rating_7',\n",
       " 'home_team_history_rating_8',\n",
       " 'home_team_history_rating_9',\n",
       " 'home_team_history_rating_10',\n",
       " 'home_team_history_opponent_rating_1',\n",
       " 'home_team_history_opponent_rating_2',\n",
       " 'home_team_history_opponent_rating_3',\n",
       " 'home_team_history_opponent_rating_4',\n",
       " 'home_team_history_opponent_rating_5',\n",
       " 'home_team_history_opponent_rating_6',\n",
       " 'home_team_history_opponent_rating_7',\n",
       " 'home_team_history_opponent_rating_8',\n",
       " 'home_team_history_opponent_rating_9',\n",
       " 'home_team_history_opponent_rating_10',\n",
       " 'home_team_history_coach_1',\n",
       " 'home_team_history_coach_2',\n",
       " 'home_team_history_coach_3',\n",
       " 'home_team_history_coach_4',\n",
       " 'home_team_history_coach_5',\n",
       " 'home_team_history_coach_6',\n",
       " 'home_team_history_coach_7',\n",
       " 'home_team_history_coach_8',\n",
       " 'home_team_history_coach_9',\n",
       " 'home_team_history_coach_10',\n",
       " 'home_team_history_league_id_1',\n",
       " 'home_team_history_league_id_2',\n",
       " 'home_team_history_league_id_3',\n",
       " 'home_team_history_league_id_4',\n",
       " 'home_team_history_league_id_5',\n",
       " 'home_team_history_league_id_6',\n",
       " 'home_team_history_league_id_7',\n",
       " 'home_team_history_league_id_8',\n",
       " 'home_team_history_league_id_9',\n",
       " 'home_team_history_league_id_10',\n",
       " 'away_team_history_match_date_1',\n",
       " 'away_team_history_match_date_2',\n",
       " 'away_team_history_match_date_3',\n",
       " 'away_team_history_match_date_4',\n",
       " 'away_team_history_match_date_5',\n",
       " 'away_team_history_match_date_6',\n",
       " 'away_team_history_match_date_7',\n",
       " 'away_team_history_match_date_8',\n",
       " 'away_team_history_match_date_9',\n",
       " 'away_team_history_match_date_10',\n",
       " 'away_team_history_is_play_home_1',\n",
       " 'away_team_history_is_play_home_2',\n",
       " 'away_team_history_is_play_home_3',\n",
       " 'away_team_history_is_play_home_4',\n",
       " 'away_team_history_is_play_home_5',\n",
       " 'away_team_history_is_play_home_6',\n",
       " 'away_team_history_is_play_home_7',\n",
       " 'away_team_history_is_play_home_8',\n",
       " 'away_team_history_is_play_home_9',\n",
       " 'away_team_history_is_play_home_10',\n",
       " 'away_team_history_is_cup_1',\n",
       " 'away_team_history_is_cup_2',\n",
       " 'away_team_history_is_cup_3',\n",
       " 'away_team_history_is_cup_4',\n",
       " 'away_team_history_is_cup_5',\n",
       " 'away_team_history_is_cup_6',\n",
       " 'away_team_history_is_cup_7',\n",
       " 'away_team_history_is_cup_8',\n",
       " 'away_team_history_is_cup_9',\n",
       " 'away_team_history_is_cup_10',\n",
       " 'away_team_history_goal_1',\n",
       " 'away_team_history_goal_2',\n",
       " 'away_team_history_goal_3',\n",
       " 'away_team_history_goal_4',\n",
       " 'away_team_history_goal_5',\n",
       " 'away_team_history_goal_6',\n",
       " 'away_team_history_goal_7',\n",
       " 'away_team_history_goal_8',\n",
       " 'away_team_history_goal_9',\n",
       " 'away_team_history_goal_10',\n",
       " 'away_team_history_opponent_goal_1',\n",
       " 'away_team_history_opponent_goal_2',\n",
       " 'away_team_history_opponent_goal_3',\n",
       " 'away_team_history_opponent_goal_4',\n",
       " 'away_team_history_opponent_goal_5',\n",
       " 'away_team_history_opponent_goal_6',\n",
       " 'away_team_history_opponent_goal_7',\n",
       " 'away_team_history_opponent_goal_8',\n",
       " 'away_team_history_opponent_goal_9',\n",
       " 'away_team_history_opponent_goal_10',\n",
       " 'away_team_history_rating_1',\n",
       " 'away_team_history_rating_2',\n",
       " 'away_team_history_rating_3',\n",
       " 'away_team_history_rating_4',\n",
       " 'away_team_history_rating_5',\n",
       " 'away_team_history_rating_6',\n",
       " 'away_team_history_rating_7',\n",
       " 'away_team_history_rating_8',\n",
       " 'away_team_history_rating_9',\n",
       " 'away_team_history_rating_10',\n",
       " 'away_team_history_opponent_rating_1',\n",
       " 'away_team_history_opponent_rating_2',\n",
       " 'away_team_history_opponent_rating_3',\n",
       " 'away_team_history_opponent_rating_4',\n",
       " 'away_team_history_opponent_rating_5',\n",
       " 'away_team_history_opponent_rating_6',\n",
       " 'away_team_history_opponent_rating_7',\n",
       " 'away_team_history_opponent_rating_8',\n",
       " 'away_team_history_opponent_rating_9',\n",
       " 'away_team_history_opponent_rating_10',\n",
       " 'away_team_history_coach_1',\n",
       " 'away_team_history_coach_2',\n",
       " 'away_team_history_coach_3',\n",
       " 'away_team_history_coach_4',\n",
       " 'away_team_history_coach_5',\n",
       " 'away_team_history_coach_6',\n",
       " 'away_team_history_coach_7',\n",
       " 'away_team_history_coach_8',\n",
       " 'away_team_history_coach_9',\n",
       " 'away_team_history_coach_10',\n",
       " 'away_team_history_league_id_1',\n",
       " 'away_team_history_league_id_2',\n",
       " 'away_team_history_league_id_3',\n",
       " 'away_team_history_league_id_4',\n",
       " 'away_team_history_league_id_5',\n",
       " 'away_team_history_league_id_6',\n",
       " 'away_team_history_league_id_7',\n",
       " 'away_team_history_league_id_8',\n",
       " 'away_team_history_league_id_9',\n",
       " 'away_team_history_league_id_10',\n",
       " 'home_score',\n",
       " 'away_score']"
      ]
     },
     "execution_count": 82,
     "metadata": {},
     "output_type": "execute_result"
    }
   ],
   "source": [
    "# imprimir columnas\n",
    "football_train_df.columns.to_list()"
   ]
  },
  {
   "cell_type": "markdown",
   "metadata": {},
   "source": [
    "### Data Preparation"
   ]
  },
  {
   "cell_type": "code",
   "execution_count": 81,
   "metadata": {},
   "outputs": [],
   "source": [
    "from sklearn.preprocessing import LabelEncoder\n",
    "\n",
    "# change datetime format\n",
    "# filter date columns and change datatype\n",
    "for col in football_train_df.filter(regex='date', axis=1).columns:\n",
    "    football_train_df[col] = pd.to_datetime(football_train_df[col])\n",
    "\n",
    "# Set league_name as category\n",
    "football_train_df['league_name'] = football_train_df['league_name'].astype('category')\n",
    "\n",
    "# Label encoding target\n",
    "le = LabelEncoder()\n",
    "football_train_df['target'] = le.fit_transform(football_train_df['target'])\n",
    "\n",
    "# Label encoding is_coup\n",
    "football_train_df['is_cup'] = le.fit_transform(football_train_df['is_cup'])\n",
    "\n",
    "# Separate score column # - # in two columns home_score and away_score and merge it with football_train_df\n",
    "football_train_df['home_score'] = football_train_df['score'].str.split('-', expand=True)[0].astype(int)\n",
    "football_train_df['away_score'] = football_train_df['score'].str.split('-', expand=True)[1].astype(int)\n",
    "football_train_df.drop('score', axis=1, inplace=True)\n",
    "\n"
   ]
  },
  {
   "cell_type": "markdown",
   "metadata": {},
   "source": [
    "## Feature Engineering\n"
   ]
  },
  {
   "cell_type": "code",
   "execution_count": 119,
   "metadata": {},
   "outputs": [
    {
     "name": "stdout",
     "output_type": "stream",
     "text": [
      "(79055, 24)\n"
     ]
    }
   ],
   "source": [
    "# Feature Engineering\n",
    "football_reduced_df = football_train_df[[\n",
    "    'home_team_name', \n",
    "    'away_team_name', \n",
    "    'match_date', \n",
    "    'league_name',\n",
    "    'is_cup', \n",
    "    'home_score', \n",
    "    'away_score',\n",
    "    'target']].copy()\n",
    "\n",
    "# Calculate last home team match\n",
    "# find the days between the last match of the home team\n",
    "football_reduced_df['home_days_betwent_last_match'] = (football_reduced_df['match_date'] - football_train_df['home_team_history_match_date_1']).dt.days\n",
    "football_reduced_df['home_days_betwent_last_match'].head(10)\n",
    "\n",
    "# home average goals in last 10 matches (columns home_team_history_goal_1 to home_team_history_goal_10)\n",
    "football_reduced_df['home_avg_home_goal_last_10'] = football_train_df.filter(regex='home_team_history_goal', axis=1).mean(axis=1)\n",
    "football_reduced_df['home_avg_opponent_goal_last_10'] = football_train_df.filter(regex='home_team_history_opponent_goal', axis=1).mean(axis=1)\n",
    "\n",
    "football_reduced_df['away_avg_home_goal_last_10'] = football_train_df.filter(regex='away_team_history_goal', axis=1).mean(axis=1)\n",
    "football_reduced_df['away_avg_opponent_goal_last_10'] = football_train_df.filter(regex='away_team_history_opponent_goal', axis=1).mean(axis=1)\n",
    "# Aqui podemos hacer feature engineering para obtener la cantidad de partidos jugados por cada equipo\n",
    "\n",
    "# Habra algun mes en donde el rendimiento se vea aectado?\n",
    "# create columns by month based on date\n",
    "football_reduced_df['month'] = football_reduced_df['match_date'].dt.month\n",
    "\n",
    "# how many matches did win the home/away team in the last 10 matches\n",
    "home_history_goals = football_train_df.filter(regex='home_team_history_goal', axis=1).to_numpy()\n",
    "home_history_oponent_goals = football_train_df.filter(regex='home_team_history_opponent_goal', axis=1).to_numpy()\n",
    "football_reduced_df['home_wins_last_10'] = (home_history_goals > home_history_oponent_goals).sum(axis=1)\n",
    "football_reduced_df['home_dawn_last_10'] = (home_history_goals == home_history_oponent_goals).sum(axis=1)\n",
    "football_reduced_df['home_lose_last_10'] = (home_history_goals < home_history_oponent_goals).sum(axis=1)\n",
    "\n",
    "away_history_goals = football_train_df.filter(regex='away_team_history_goal', axis=1).to_numpy()\n",
    "away_history_oponent_goals = football_train_df.filter(regex='away_team_history_opponent_goal', axis=1).to_numpy()\n",
    "football_reduced_df['away_wins_last_10'] = (away_history_goals > away_history_oponent_goals).sum(axis=1)\n",
    "football_reduced_df['away_dawn_last_10'] = (away_history_goals == away_history_oponent_goals).sum(axis=1)\n",
    "football_reduced_df['away_lose_last_10'] = (away_history_goals < away_history_oponent_goals).sum(axis=1)\n",
    "\n",
    "# mean team rating and oponent rating\n",
    "football_reduced_df['home_avg_rating_last_10'] = football_train_df.filter(regex='home_team_history_rating', axis=1).mean(axis=1)\n",
    "football_reduced_df['home_avg_opponent_rating_last_10'] = football_train_df.filter(regex='home_team_history_opponent_rating', axis=1).mean(axis=1)\n",
    "\n",
    "football_reduced_df['away_avg_rating_last_10'] = football_train_df.filter(regex='away_team_history_rating', axis=1).mean(axis=1)\n",
    "football_reduced_df['away_avg_opponent_rating_last_10'] = football_train_df.filter(regex='away_team_history_opponent_rating', axis=1).mean(axis=1)\n",
    "\n",
    "print(football_reduced_df.shape)\n"
   ]
  },
  {
   "cell_type": "code",
   "execution_count": 120,
   "metadata": {},
   "outputs": [
    {
     "name": "stdout",
     "output_type": "stream",
     "text": [
      "id\n",
      "11906497    5.496371\n",
      "11983301    6.844712\n",
      "11983471    7.449923\n",
      "11883005    7.079634\n",
      "11974168    8.236748\n",
      "Name: home_avg_rating_last_10, dtype: float64\n",
      "id\n",
      "11906497    8.561214\n",
      "11983301    7.620071\n",
      "11983471    5.818128\n",
      "11883005    5.983338\n",
      "11974168    9.791657\n",
      "Name: away_avg_rating_last_10, dtype: float64\n"
     ]
    }
   ],
   "source": [
    "print(football_reduced_df['home_avg_rating_last_10'].head())\n",
    "print(football_reduced_df['away_avg_rating_last_10'].head())"
   ]
  },
  {
   "cell_type": "markdown",
   "metadata": {},
   "source": [
    "## Model Selection"
   ]
  },
  {
   "cell_type": "code",
   "execution_count": null,
   "metadata": {},
   "outputs": [],
   "source": [
    "# Split into test dataset and train dataset"
   ]
  },
  {
   "cell_type": "markdown",
   "metadata": {},
   "source": [
    "### Test Linear Regression\n"
   ]
  },
  {
   "cell_type": "code",
   "execution_count": null,
   "metadata": {},
   "outputs": [],
   "source": [
    "# linear regresion for blah blah"
   ]
  },
  {
   "cell_type": "markdown",
   "metadata": {},
   "source": [
    "### Test K-Nearest Neighbors"
   ]
  },
  {
   "cell_type": "code",
   "execution_count": null,
   "metadata": {},
   "outputs": [],
   "source": [
    "# Test KKN for classification"
   ]
  },
  {
   "cell_type": "markdown",
   "metadata": {},
   "source": [
    "### Test XGBoost for Regression"
   ]
  },
  {
   "cell_type": "code",
   "execution_count": null,
   "metadata": {},
   "outputs": [],
   "source": [
    "# code for a XGBoost regressor"
   ]
  },
  {
   "cell_type": "markdown",
   "metadata": {},
   "source": [
    "### Models Comparison"
   ]
  },
  {
   "cell_type": "code",
   "execution_count": null,
   "metadata": {},
   "outputs": [],
   "source": [
    "# compare metrics"
   ]
  },
  {
   "cell_type": "markdown",
   "metadata": {},
   "source": [
    "## Model Training"
   ]
  },
  {
   "cell_type": "code",
   "execution_count": null,
   "metadata": {},
   "outputs": [],
   "source": [
    "# prepare data for the model\n",
    "\n",
    "# scaling data - additional encoder\n",
    "\n",
    "# feature selection\n",
    "\n",
    "# create model with hyperparameters\n",
    "\n",
    "# train model"
   ]
  },
  {
   "cell_type": "markdown",
   "metadata": {},
   "source": [
    "## Model Evaluation"
   ]
  },
  {
   "cell_type": "code",
   "execution_count": null,
   "metadata": {},
   "outputs": [],
   "source": [
    "# test metrics classical\n",
    "\n",
    "# show plots about results"
   ]
  },
  {
   "cell_type": "code",
   "execution_count": null,
   "metadata": {},
   "outputs": [],
   "source": [
    "# scatter plot comparing real and predicted values\n",
    "\n",
    "# line plot about real vs predicted\n",
    "\n",
    "# box plot about real vs predicted"
   ]
  },
  {
   "cell_type": "code",
   "execution_count": null,
   "metadata": {},
   "outputs": [],
   "source": [
    "# pickle the model\n",
    "import pickle\n",
    "\n",
    "# save the model to disk\n",
    "with open('model.pkl', 'wb') as model_file:\n",
    "    pickle.dump(model, model_file)"
   ]
  },
  {
   "cell_type": "markdown",
   "metadata": {},
   "source": [
    "***"
   ]
  },
  {
   "cell_type": "markdown",
   "metadata": {},
   "source": [
    "# Business Questions"
   ]
  },
  {
   "cell_type": "markdown",
   "metadata": {},
   "source": [
    "1. What is the risk level for unpayments based on age and region?\n"
   ]
  },
  {
   "cell_type": "code",
   "execution_count": 1,
   "metadata": {},
   "outputs": [],
   "source": [
    "# generate a table or a plot or a business metric"
   ]
  },
  {
   "cell_type": "markdown",
   "metadata": {},
   "source": [
    "2. What is average amount of unpayments? what is the segment of values where unpayments are appearin?"
   ]
  },
  {
   "cell_type": "code",
   "execution_count": null,
   "metadata": {},
   "outputs": [],
   "source": [
    "# generate a table or a plot or a business metric"
   ]
  }
 ],
 "metadata": {
  "kernelspec": {
   "display_name": "data_science_course",
   "language": "python",
   "name": "python3"
  },
  "language_info": {
   "codemirror_mode": {
    "name": "ipython",
    "version": 3
   },
   "file_extension": ".py",
   "mimetype": "text/x-python",
   "name": "python",
   "nbconvert_exporter": "python",
   "pygments_lexer": "ipython3",
   "version": "3.11.9"
  }
 },
 "nbformat": 4,
 "nbformat_minor": 2
}
