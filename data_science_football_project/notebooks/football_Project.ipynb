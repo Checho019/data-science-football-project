{
 "cells": [
  {
   "cell_type": "markdown",
   "metadata": {},
   "source": [
    "# Project Football\n",
    "\n",
    "In this project we checked historical data about football matches.\n",
    "\n",
    "_SOL_: I made a change about some business questions."
   ]
  },
  {
   "cell_type": "markdown",
   "metadata": {},
   "source": [
    "## Data Collection"
   ]
  },
  {
   "cell_type": "code",
   "execution_count": null,
   "metadata": {},
   "outputs": [],
   "source": [
    "# consume external API"
   ]
  },
  {
   "cell_type": "code",
   "execution_count": null,
   "metadata": {},
   "outputs": [],
   "source": [
    "# make web scrapping to get stats from Wikipedia"
   ]
  },
  {
   "cell_type": "code",
   "execution_count": 5,
   "metadata": {},
   "outputs": [
    {
     "name": "stderr",
     "output_type": "stream",
     "text": [
      "/tmp/ipykernel_9339/1709806642.py:4: DtypeWarning: Columns (7) have mixed types. Specify dtype option on import or set low_memory=False.\n",
      "  football_df = pd.read_csv('./data/football.csv')\n"
     ]
    },
    {
     "data": {
      "text/plain": [
       "['id',\n",
       " 'target',\n",
       " 'home_team_name',\n",
       " 'away_team_name',\n",
       " 'match_date',\n",
       " 'league_name',\n",
       " 'league_id',\n",
       " 'is_cup',\n",
       " 'home_team_coach_id',\n",
       " 'away_team_coach_id',\n",
       " 'home_team_history_match_date_1',\n",
       " 'home_team_history_match_date_2',\n",
       " 'home_team_history_match_date_3',\n",
       " 'home_team_history_match_date_4',\n",
       " 'home_team_history_match_date_5',\n",
       " 'home_team_history_match_date_6',\n",
       " 'home_team_history_match_date_7',\n",
       " 'home_team_history_match_date_8',\n",
       " 'home_team_history_match_date_9',\n",
       " 'home_team_history_match_date_10',\n",
       " 'home_team_history_is_play_home_1',\n",
       " 'home_team_history_is_play_home_2',\n",
       " 'home_team_history_is_play_home_3',\n",
       " 'home_team_history_is_play_home_4',\n",
       " 'home_team_history_is_play_home_5',\n",
       " 'home_team_history_is_play_home_6',\n",
       " 'home_team_history_is_play_home_7',\n",
       " 'home_team_history_is_play_home_8',\n",
       " 'home_team_history_is_play_home_9',\n",
       " 'home_team_history_is_play_home_10',\n",
       " 'home_team_history_is_cup_1',\n",
       " 'home_team_history_is_cup_2',\n",
       " 'home_team_history_is_cup_3',\n",
       " 'home_team_history_is_cup_4',\n",
       " 'home_team_history_is_cup_5',\n",
       " 'home_team_history_is_cup_6',\n",
       " 'home_team_history_is_cup_7',\n",
       " 'home_team_history_is_cup_8',\n",
       " 'home_team_history_is_cup_9',\n",
       " 'home_team_history_is_cup_10',\n",
       " 'home_team_history_goal_1',\n",
       " 'home_team_history_goal_2',\n",
       " 'home_team_history_goal_3',\n",
       " 'home_team_history_goal_4',\n",
       " 'home_team_history_goal_5',\n",
       " 'home_team_history_goal_6',\n",
       " 'home_team_history_goal_7',\n",
       " 'home_team_history_goal_8',\n",
       " 'home_team_history_goal_9',\n",
       " 'home_team_history_goal_10',\n",
       " 'home_team_history_opponent_goal_1',\n",
       " 'home_team_history_opponent_goal_2',\n",
       " 'home_team_history_opponent_goal_3',\n",
       " 'home_team_history_opponent_goal_4',\n",
       " 'home_team_history_opponent_goal_5',\n",
       " 'home_team_history_opponent_goal_6',\n",
       " 'home_team_history_opponent_goal_7',\n",
       " 'home_team_history_opponent_goal_8',\n",
       " 'home_team_history_opponent_goal_9',\n",
       " 'home_team_history_opponent_goal_10',\n",
       " 'home_team_history_rating_1',\n",
       " 'home_team_history_rating_2',\n",
       " 'home_team_history_rating_3',\n",
       " 'home_team_history_rating_4',\n",
       " 'home_team_history_rating_5',\n",
       " 'home_team_history_rating_6',\n",
       " 'home_team_history_rating_7',\n",
       " 'home_team_history_rating_8',\n",
       " 'home_team_history_rating_9',\n",
       " 'home_team_history_rating_10',\n",
       " 'home_team_history_opponent_rating_1',\n",
       " 'home_team_history_opponent_rating_2',\n",
       " 'home_team_history_opponent_rating_3',\n",
       " 'home_team_history_opponent_rating_4',\n",
       " 'home_team_history_opponent_rating_5',\n",
       " 'home_team_history_opponent_rating_6',\n",
       " 'home_team_history_opponent_rating_7',\n",
       " 'home_team_history_opponent_rating_8',\n",
       " 'home_team_history_opponent_rating_9',\n",
       " 'home_team_history_opponent_rating_10',\n",
       " 'home_team_history_coach_1',\n",
       " 'home_team_history_coach_2',\n",
       " 'home_team_history_coach_3',\n",
       " 'home_team_history_coach_4',\n",
       " 'home_team_history_coach_5',\n",
       " 'home_team_history_coach_6',\n",
       " 'home_team_history_coach_7',\n",
       " 'home_team_history_coach_8',\n",
       " 'home_team_history_coach_9',\n",
       " 'home_team_history_coach_10',\n",
       " 'home_team_history_league_id_1',\n",
       " 'home_team_history_league_id_2',\n",
       " 'home_team_history_league_id_3',\n",
       " 'home_team_history_league_id_4',\n",
       " 'home_team_history_league_id_5',\n",
       " 'home_team_history_league_id_6',\n",
       " 'home_team_history_league_id_7',\n",
       " 'home_team_history_league_id_8',\n",
       " 'home_team_history_league_id_9',\n",
       " 'home_team_history_league_id_10',\n",
       " 'away_team_history_match_date_1',\n",
       " 'away_team_history_match_date_2',\n",
       " 'away_team_history_match_date_3',\n",
       " 'away_team_history_match_date_4',\n",
       " 'away_team_history_match_date_5',\n",
       " 'away_team_history_match_date_6',\n",
       " 'away_team_history_match_date_7',\n",
       " 'away_team_history_match_date_8',\n",
       " 'away_team_history_match_date_9',\n",
       " 'away_team_history_match_date_10',\n",
       " 'away_team_history_is_play_home_1',\n",
       " 'away_team_history_is_play_home_2',\n",
       " 'away_team_history_is_play_home_3',\n",
       " 'away_team_history_is_play_home_4',\n",
       " 'away_team_history_is_play_home_5',\n",
       " 'away_team_history_is_play_home_6',\n",
       " 'away_team_history_is_play_home_7',\n",
       " 'away_team_history_is_play_home_8',\n",
       " 'away_team_history_is_play_home_9',\n",
       " 'away_team_history_is_play_home_10',\n",
       " 'away_team_history_is_cup_1',\n",
       " 'away_team_history_is_cup_2',\n",
       " 'away_team_history_is_cup_3',\n",
       " 'away_team_history_is_cup_4',\n",
       " 'away_team_history_is_cup_5',\n",
       " 'away_team_history_is_cup_6',\n",
       " 'away_team_history_is_cup_7',\n",
       " 'away_team_history_is_cup_8',\n",
       " 'away_team_history_is_cup_9',\n",
       " 'away_team_history_is_cup_10',\n",
       " 'away_team_history_goal_1',\n",
       " 'away_team_history_goal_2',\n",
       " 'away_team_history_goal_3',\n",
       " 'away_team_history_goal_4',\n",
       " 'away_team_history_goal_5',\n",
       " 'away_team_history_goal_6',\n",
       " 'away_team_history_goal_7',\n",
       " 'away_team_history_goal_8',\n",
       " 'away_team_history_goal_9',\n",
       " 'away_team_history_goal_10',\n",
       " 'away_team_history_opponent_goal_1',\n",
       " 'away_team_history_opponent_goal_2',\n",
       " 'away_team_history_opponent_goal_3',\n",
       " 'away_team_history_opponent_goal_4',\n",
       " 'away_team_history_opponent_goal_5',\n",
       " 'away_team_history_opponent_goal_6',\n",
       " 'away_team_history_opponent_goal_7',\n",
       " 'away_team_history_opponent_goal_8',\n",
       " 'away_team_history_opponent_goal_9',\n",
       " 'away_team_history_opponent_goal_10',\n",
       " 'away_team_history_rating_1',\n",
       " 'away_team_history_rating_2',\n",
       " 'away_team_history_rating_3',\n",
       " 'away_team_history_rating_4',\n",
       " 'away_team_history_rating_5',\n",
       " 'away_team_history_rating_6',\n",
       " 'away_team_history_rating_7',\n",
       " 'away_team_history_rating_8',\n",
       " 'away_team_history_rating_9',\n",
       " 'away_team_history_rating_10',\n",
       " 'away_team_history_opponent_rating_1',\n",
       " 'away_team_history_opponent_rating_2',\n",
       " 'away_team_history_opponent_rating_3',\n",
       " 'away_team_history_opponent_rating_4',\n",
       " 'away_team_history_opponent_rating_5',\n",
       " 'away_team_history_opponent_rating_6',\n",
       " 'away_team_history_opponent_rating_7',\n",
       " 'away_team_history_opponent_rating_8',\n",
       " 'away_team_history_opponent_rating_9',\n",
       " 'away_team_history_opponent_rating_10',\n",
       " 'away_team_history_coach_1',\n",
       " 'away_team_history_coach_2',\n",
       " 'away_team_history_coach_3',\n",
       " 'away_team_history_coach_4',\n",
       " 'away_team_history_coach_5',\n",
       " 'away_team_history_coach_6',\n",
       " 'away_team_history_coach_7',\n",
       " 'away_team_history_coach_8',\n",
       " 'away_team_history_coach_9',\n",
       " 'away_team_history_coach_10',\n",
       " 'away_team_history_league_id_1',\n",
       " 'away_team_history_league_id_2',\n",
       " 'away_team_history_league_id_3',\n",
       " 'away_team_history_league_id_4',\n",
       " 'away_team_history_league_id_5',\n",
       " 'away_team_history_league_id_6',\n",
       " 'away_team_history_league_id_7',\n",
       " 'away_team_history_league_id_8',\n",
       " 'away_team_history_league_id_9',\n",
       " 'away_team_history_league_id_10']"
      ]
     },
     "execution_count": 5,
     "metadata": {},
     "output_type": "execute_result"
    }
   ],
   "source": [
    "import pandas as pd\n",
    "\n",
    "# get data from kaggle\n",
    "football_df = pd.read_csv('./data/football.csv')\n",
    "football_df.columns.to_list()"
   ]
  },
  {
   "cell_type": "code",
   "execution_count": null,
   "metadata": {},
   "outputs": [],
   "source": [
    "# merge data sources in one or multiple dataframes"
   ]
  },
  {
   "cell_type": "code",
   "execution_count": null,
   "metadata": {},
   "outputs": [],
   "source": [
    "# plot histogram of the data\n",
    "\n",
    "# plot heatmap about correlations"
   ]
  },
  {
   "cell_type": "markdown",
   "metadata": {},
   "source": [
    "## Data Preprocessing"
   ]
  },
  {
   "cell_type": "markdown",
   "metadata": {},
   "source": [
    "### Data Cleaning\n",
    "\n",
    "We remove, fill, replace, ..."
   ]
  },
  {
   "cell_type": "code",
   "execution_count": null,
   "metadata": {},
   "outputs": [],
   "source": [
    "# code to remove duplicates\n",
    "\n",
    "# code to remove missing values\n",
    "\n",
    "# code to remove outliers\n",
    "\n"
   ]
  },
  {
   "cell_type": "code",
   "execution_count": null,
   "metadata": {},
   "outputs": [],
   "source": [
    "# plot before and after remove outliers and clean data"
   ]
  },
  {
   "cell_type": "markdown",
   "metadata": {},
   "source": [
    "### Data Preparation"
   ]
  },
  {
   "cell_type": "code",
   "execution_count": null,
   "metadata": {},
   "outputs": [],
   "source": [
    "# change datetime format\n",
    "\n",
    "# change columns data type\n",
    "\n",
    "# convert dtetime to unix timestamp"
   ]
  },
  {
   "cell_type": "markdown",
   "metadata": {},
   "source": [
    "## Feature Engineering\n"
   ]
  },
  {
   "cell_type": "code",
   "execution_count": null,
   "metadata": {},
   "outputs": [],
   "source": [
    "# create columns by month based on date\n",
    "\n",
    "# one hot encoding for categorical variables\n",
    "\n",
    "# get a new column based on a condition over other columns\n",
    "\n",
    "# get categorical column based on numerical column"
   ]
  },
  {
   "cell_type": "markdown",
   "metadata": {},
   "source": [
    "## Model Selection"
   ]
  },
  {
   "cell_type": "code",
   "execution_count": null,
   "metadata": {},
   "outputs": [],
   "source": [
    "# Split into test dataset and train dataset"
   ]
  },
  {
   "cell_type": "markdown",
   "metadata": {},
   "source": [
    "### Test Linear Regression\n"
   ]
  },
  {
   "cell_type": "code",
   "execution_count": null,
   "metadata": {},
   "outputs": [],
   "source": [
    "# linear regresion for blah blah"
   ]
  },
  {
   "cell_type": "markdown",
   "metadata": {},
   "source": [
    "### Test K-Nearest Neighbors"
   ]
  },
  {
   "cell_type": "code",
   "execution_count": null,
   "metadata": {},
   "outputs": [],
   "source": [
    "# Test KKN for classification"
   ]
  },
  {
   "cell_type": "markdown",
   "metadata": {},
   "source": [
    "### Test XGBoost for Regression"
   ]
  },
  {
   "cell_type": "code",
   "execution_count": null,
   "metadata": {},
   "outputs": [],
   "source": [
    "# code for a XGBoost regressor"
   ]
  },
  {
   "cell_type": "markdown",
   "metadata": {},
   "source": [
    "### Models Comparison"
   ]
  },
  {
   "cell_type": "code",
   "execution_count": null,
   "metadata": {},
   "outputs": [],
   "source": [
    "# compare metrics"
   ]
  },
  {
   "cell_type": "markdown",
   "metadata": {},
   "source": [
    "## Model Training"
   ]
  },
  {
   "cell_type": "code",
   "execution_count": null,
   "metadata": {},
   "outputs": [],
   "source": [
    "# prepare data for the model\n",
    "\n",
    "# scaling data - additional encoder\n",
    "\n",
    "# feature selection\n",
    "\n",
    "# create model with hyperparameters\n",
    "\n",
    "# train model"
   ]
  },
  {
   "cell_type": "markdown",
   "metadata": {},
   "source": [
    "## Model Evaluation"
   ]
  },
  {
   "cell_type": "code",
   "execution_count": null,
   "metadata": {},
   "outputs": [],
   "source": [
    "# test metrics classical\n",
    "\n",
    "# show plots about results"
   ]
  },
  {
   "cell_type": "code",
   "execution_count": null,
   "metadata": {},
   "outputs": [],
   "source": [
    "# scatter plot comparing real and predicted values\n",
    "\n",
    "# line plot about real vs predicted\n",
    "\n",
    "# box plot about real vs predicted"
   ]
  },
  {
   "cell_type": "code",
   "execution_count": null,
   "metadata": {},
   "outputs": [],
   "source": [
    "# pickle the model\n",
    "import pickle\n",
    "\n",
    "# save the model to disk\n",
    "with open('model.pkl', 'wb') as model_file:\n",
    "    pickle.dump(model, model_file)"
   ]
  },
  {
   "cell_type": "markdown",
   "metadata": {},
   "source": [
    "***"
   ]
  },
  {
   "cell_type": "markdown",
   "metadata": {},
   "source": [
    "# Business Questions"
   ]
  },
  {
   "cell_type": "markdown",
   "metadata": {},
   "source": [
    "1. What is the risk level for unpayments based on age and region?\n"
   ]
  },
  {
   "cell_type": "code",
   "execution_count": 1,
   "metadata": {},
   "outputs": [],
   "source": [
    "# generate a table or a plot or a business metric"
   ]
  },
  {
   "cell_type": "markdown",
   "metadata": {},
   "source": [
    "2. What is average amount of unpayments? what is the segment of values where unpayments are appearin?"
   ]
  },
  {
   "cell_type": "code",
   "execution_count": null,
   "metadata": {},
   "outputs": [],
   "source": [
    "# generate a table or a plot or a business metric"
   ]
  }
 ],
 "metadata": {
  "kernelspec": {
   "display_name": "data_science_course",
   "language": "python",
   "name": "python3"
  },
  "language_info": {
   "codemirror_mode": {
    "name": "ipython",
    "version": 3
   },
   "file_extension": ".py",
   "mimetype": "text/x-python",
   "name": "python",
   "nbconvert_exporter": "python",
   "pygments_lexer": "ipython3",
   "version": "3.11.9"
  }
 },
 "nbformat": 4,
 "nbformat_minor": 2
}
